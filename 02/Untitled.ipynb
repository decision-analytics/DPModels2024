{
 "cells": [
  {
   "cell_type": "markdown",
   "id": "f1885760",
   "metadata": {
    "slideshow": {
     "slide_type": "slide"
    }
   },
   "source": [
    "<img src=\"img/bigsem.png\" width=\"40%\" align=\"right\">\n",
    "<img src=\"img/logo_wiwi.png\" width=\"20%\" align=\"left\">\n",
    "\n",
    "\n",
    "\n",
    "\n",
    "\n",
    "<br><br><br><br>\n",
    "\n",
    "# Dynamic Programming Models in Combinatorial Optimization\n",
    "**Winter Term 2022/23**\n",
    "\n",
    "\n",
    "# 2. Decision Diagrams\n",
    "\n",
    "<img src=\"img/decision_analytics_logo.png\" width=\"17%\" align=\"right\">\n",
    "\n",
    "\n",
    "<br>\n",
    "\n",
    "<br>\n",
    "<br>\n",
    "\n",
    "**J-Prof. Dr. Michael Römer |  Decision Analytics Group**\n",
    "                                                    \n"
   ]
  },
  {
   "cell_type": "code",
   "execution_count": null,
   "id": "9a9ced1f",
   "metadata": {
    "slideshow": {
     "slide_type": "skip"
    }
   },
   "outputs": [],
   "source": [
    "import matplotlib.pyplot as plt\n",
    "import numpy as np\n",
    "import pandas as pd\n",
    "from numba import njit, typeof\n",
    "from typing import NamedTuple, Callable\n",
    "from dataclasses import dataclass, field\n",
    "from numba.experimental import jitclass"
   ]
  },
  {
   "cell_type": "markdown",
   "id": "1450bae5",
   "metadata": {
    "slideshow": {
     "slide_type": "slide"
    }
   },
   "source": [
    "# Overview\n",
    "- Review, generic DP models and algorithms\n",
    "- Exact Decision Diagrams\n",
    "- REducing Exact Decision Diagrams\n",
    "- Restricted Decision Diagrams\n",
    "- Branch and Bound based on Decision Diagrams"
   ]
  },
  {
   "cell_type": "markdown",
   "id": "742b6a39",
   "metadata": {
    "slideshow": {
     "slide_type": "slide"
    }
   },
   "source": [
    "## Example: the 0/1 knapsack problem\n",
    "\n",
    "Given \n",
    "- a knapsack with a capacity $W$ \n",
    "- and a set of items, each with a weight $w_i$ and a value $p_i$\n",
    "- determine the the subset of the items to put in the knapsack such that\n",
    "  - the total value of the items in the knapsack is maximal and\n",
    "  - the total weight of the items in the knapsack does not exceed $W$"
   ]
  },
  {
   "cell_type": "markdown",
   "id": "bc28ab12",
   "metadata": {
    "slideshow": {
     "slide_type": "slide"
    }
   },
   "source": [
    "**Example:**\n",
    "\n",
    "<img src=\"./img/greedy/07.png\" width=\"20%\" align=\"right\">\n",
    "\n",
    "Assume you are a thief and you are about to steal the three items depicted below from an appartment. However, your backpack can only fit 35 lbs. Which items should you take?\n",
    "\n",
    "\n",
    "\n",
    "<img src=\"./img/greedy/08.png\" width=\"40%\" align=\"left \">"
   ]
  },
  {
   "cell_type": "markdown",
   "id": "439c0801",
   "metadata": {
    "slideshow": {
     "slide_type": "slide"
    }
   },
   "source": [
    "## A Greedy Approach for the Knapsack Problem\n",
    "\n",
    "- start with some item: If it (still) fits in the backpack, put it in the backpack\n",
    "- repeat for the remaining items\n",
    "\n",
    "..you never take out an item once it has been packed in the knapsack"
   ]
  },
  {
   "cell_type": "markdown",
   "id": "64ec56f6",
   "metadata": {},
   "source": [
    "#### In Python:"
   ]
  },
  {
   "cell_type": "code",
   "execution_count": null,
   "id": "57e58c8c",
   "metadata": {
    "slideshow": {
     "slide_type": "-"
    }
   },
   "outputs": [],
   "source": [
    "def greedy_knapsack(values, weights, capacity):\n",
    "    solution = [] # solution array\n",
    "    obj_val = 0 # accumulated objective\n",
    "    total_weight = 0 # accumulated weight\n",
    "    \n",
    "    for i, weight in enumerate(weights): \n",
    "        if total_weight + weight <= capacity: ## if the item still fits..\n",
    "            solution.append(i) ## add it and \n",
    "            total_weight+= weight # update the accumulated weight\n",
    "            obj_val += values[i] # as well as the optimal objective value\n",
    "    return obj_val, solution"
   ]
  },
  {
   "cell_type": "markdown",
   "id": "ac824db6",
   "metadata": {},
   "source": [
    "..let us try it!"
   ]
  },
  {
   "cell_type": "code",
   "execution_count": null,
   "id": "14cacafe",
   "metadata": {},
   "outputs": [],
   "source": [
    "values = [3000,2000,1500]\n",
    "weights = [30,20,15]\n",
    "capacity = 35\n",
    "\n",
    "greedy_knapsack(values, weights, capacity)"
   ]
  },
  {
   "cell_type": "markdown",
   "id": "5c28fd16",
   "metadata": {
    "slideshow": {
     "slide_type": "slide"
    }
   },
   "source": [
    "## Let us try larger instances\n",
    "\n",
    "..there are many instance sets for the 0/1 KP\n",
    "- as an example, there are some instances from D. Pisinger, see the instances folder in the repository associated with this notebook\n",
    "- on the following website, you will find optimal objective function values:\n",
    "\n",
    "http://artemisa.unicauca.edu.co/~johnyortega/instances_01_KP/\n",
    "\n",
    ".. you find some instances in the GitHub repository in which this notebook resides\n",
    "- if you download the zip with this notebook (or clone the repository), you will have them in the folder `problems/knapsack/instances`\n"
   ]
  },
  {
   "cell_type": "markdown",
   "id": "42a2f81e",
   "metadata": {
    "slideshow": {
     "slide_type": "slide"
    }
   },
   "source": [
    "## Reading in the instances\n",
    "\n",
    "The following function reads an instance file"
   ]
  },
  {
   "cell_type": "code",
   "execution_count": null,
   "id": "cb6c20f6",
   "metadata": {
    "slideshow": {
     "slide_type": "-"
    }
   },
   "outputs": [],
   "source": [
    "def read_knapsack_instance(filename):\n",
    "    weights=[]\n",
    "    values=[]\n",
    "    with open(filename) as f: # open the file\n",
    "        line = f.readline().split()  # split first row\n",
    "        number_of_items = int(line[0]) # read number of items\n",
    "        capacity = int(line[1]) # read capacity\n",
    "        for i in range(number_of_items): # read rows for the items\n",
    "            line = f.readline().split() # split row\n",
    "            values.append(int(line[0])) # read value\n",
    "            weights.append(int(line[1])) # read weight\n",
    "    return np.array(values), np.array(weights), capacity"
   ]
  },
  {
   "cell_type": "markdown",
   "id": "68783e7c",
   "metadata": {
    "slideshow": {
     "slide_type": "fragment"
    }
   },
   "source": [
    "... let us try with a 5000-item instance and solve:"
   ]
  },
  {
   "cell_type": "code",
   "execution_count": null,
   "id": "a41a4b2b",
   "metadata": {
    "slideshow": {
     "slide_type": "-"
    }
   },
   "outputs": [],
   "source": [
    "filename = \"./../problems/knapsack/instances/knapPI_1_5000_1000_1\" # optimal value: 276457 \n",
    "values, weights, capacity  = read_knapsack_instance(filename)\n",
    "\n",
    "obj_value, _ = greedy_knapsack(values, weights, capacity)\n",
    "obj_value\n"
   ]
  },
  {
   "cell_type": "markdown",
   "id": "e71ac6da",
   "metadata": {
    "slideshow": {
     "slide_type": "slide"
    }
   },
   "source": [
    "## Exercise: Improving the greedy approach by sorting items\n",
    "\n",
    "- one way to improve the performance of this greedy algorithm for the knapsack problem is to sort items\n",
    "- which sorting criteria do you consider promising?\n",
    "- sort the items accordingly and try applying the greedy algorithm to the sorted items\n",
    "\n",
    "#### Hint:\n",
    "In numpy, there is the function `argsort` which does not return the sorted values of an array, but an array of the sorted sorted indexes!\n"
   ]
  },
  {
   "cell_type": "code",
   "execution_count": null,
   "id": "e6ab04e1",
   "metadata": {
    "slideshow": {
     "slide_type": "-"
    }
   },
   "outputs": [],
   "source": [
    "\n",
    "sorted_indexes = np.argsort(-1* values/weights)\n",
    "\n",
    "sorted_values = values[sorted_indexes]\n",
    "sorted_weights = weights[sorted_indexes]\n",
    "\n",
    "obj_value, _ = greedy_knapsack(sorted_values, sorted_weights, capacity)\n",
    "obj_value\n",
    "\n",
    "\n",
    "#kp_instance = KPInstance(sorted_values, sorted_weights, capacity, len(sorted_values))"
   ]
  },
  {
   "cell_type": "code",
   "execution_count": null,
   "id": "f1ecd16f",
   "metadata": {
    "slideshow": {
     "slide_type": "-"
    }
   },
   "outputs": [],
   "source": [
    "distance_matrix = np.array([\n",
    "    [0,  5, 4, 10],\n",
    "    [5,  0, 8,  5],\n",
    "    [4,  8, 0,  3],\n",
    "    [10, 5, 3,  0]\n",
    "])\n",
    "\n"
   ]
  },
  {
   "cell_type": "markdown",
   "id": "15601d66",
   "metadata": {
    "slideshow": {
     "slide_type": "slide"
    }
   },
   "source": [
    "## The Python library `python-tsp`\n",
    "\n",
    "see: https://github.com/fillipe-gsm/python-tsp\n",
    "\n",
    "### offers:\n",
    "- functions to read TSP instances in the tsplib-format\n",
    "  \n",
    "  \n",
    "  "
   ]
  },
  {
   "cell_type": "code",
   "execution_count": null,
   "id": "f0ab84ca",
   "metadata": {
    "slideshow": {
     "slide_type": "-"
    }
   },
   "outputs": [],
   "source": [
    "from python_tsp.distances import tsplib_distance_matrix\n",
    "\n",
    "#tsplib_file = \"./../problems/tsp/instances/a280.tsp\" # optimal solution 2579 (lt. http://comopt.ifi.uni-heidelberg.de/software/TSPLIB95/STSP.html)\n",
    "tsplib_file = \"./../problems/tsp/instances/brazil58.tsp\" # optimal solution 25395 (lt. http://comopt.ifi.uni-heidelberg.de/software/TSPLIB95/STSP.html)\n",
    "#tsplib_file = \"./../problems/tsp/instances/berlin52.tsp\" # optimal solution  7542 (lt. http://comopt.ifi.uni-heidelberg.de/software/TSPLIB95/STSP.html)\n",
    "\n",
    "distance_matrix = tsplib_distance_matrix(tsplib_file)\n",
    "\n",
    "#permutation, distance = tsp_nearest_neighbor(distance_matrix, [0])\n",
    "#distance"
   ]
  },
  {
   "cell_type": "markdown",
   "id": "7f8cb70d",
   "metadata": {
    "slideshow": {
     "slide_type": "fragment"
    }
   },
   "source": [
    "- and heuristic as well as exact TSP algorithms\n",
    "  - e.g. local search, simulated annealing and dynamic programming (exact: careful, may take very long)"
   ]
  },
  {
   "cell_type": "code",
   "execution_count": null,
   "id": "1138e92d",
   "metadata": {
    "slideshow": {
     "slide_type": "-"
    }
   },
   "outputs": [],
   "source": [
    "from python_tsp.heuristics import solve_tsp_local_search, solve_tsp_simulated_annealing\n",
    "\n",
    "#permutation, distance = solve_tsp_local_search(distance_matrix)\n",
    "\n",
    "permutation, distance = solve_tsp_simulated_annealing(distance_matrix)\n",
    "distance"
   ]
  },
  {
   "cell_type": "markdown",
   "id": "6ae45b57",
   "metadata": {
    "slideshow": {
     "slide_type": "slide"
    }
   },
   "source": [
    "## A generic wrapper function for calling a function solving the TSP\n",
    "- to simplify our further experiments let us write a function that can call any function solving a TSP\n",
    "- we use `*args` to allow passing arguments (e.g. start node) to the function\n",
    "- the wrapper function\n",
    "  - reads the distance matrix\n",
    "  - solves the problem\n",
    "  - checks the solution for feasibility\n",
    "  - prints instance name, function name, total distance and time spent for solving"
   ]
  },
  {
   "cell_type": "code",
   "execution_count": null,
   "id": "072fb63d",
   "metadata": {
    "slideshow": {
     "slide_type": "-"
    }
   },
   "outputs": [],
   "source": [
    "import timeit\n",
    "from timeit import default_timer as timer\n",
    "\n",
    "instance_name = \"brazil58\"\n",
    "def solve_tsp_using_function(instance_name, tsp_function, *args):\n",
    "    tsplib_file = f\"./../problems/tsp/instances/{instance_name}.tsp\" \n",
    "    distance_matrix = tsplib_distance_matrix(tsplib_file)\n",
    "    starttime = timer()  \n",
    "    permutation, distance = tsp_function(distance_matrix, *args)\n",
    "    if set(permutation) != set(range(len(distance_matrix))):\n",
    "        print (\"Not a proper permutation!\")\n",
    "    \n",
    "    print(f\"{instance_name}, {tsp_function.__name__}, distance: {distance}, time: {timer()- starttime:0.3f}\")"
   ]
  },
  {
   "cell_type": "markdown",
   "id": "dd8888cc",
   "metadata": {
    "slideshow": {
     "slide_type": "slide"
    }
   },
   "source": [
    "## Trying out our generic wrapper"
   ]
  },
  {
   "cell_type": "markdown",
   "id": "2bf48820",
   "metadata": {
    "slideshow": {
     "slide_type": "-"
    }
   },
   "source": [
    "..with a function from the TSPLib:"
   ]
  },
  {
   "cell_type": "code",
   "execution_count": null,
   "id": "b1316409",
   "metadata": {
    "slideshow": {
     "slide_type": "-"
    }
   },
   "outputs": [],
   "source": [
    "solve_tsp_using_function(instance_name, solve_tsp_simulated_annealing)    "
   ]
  },
  {
   "cell_type": "markdown",
   "id": "ea06ae70",
   "metadata": {
    "slideshow": {
     "slide_type": "-"
    }
   },
   "source": [
    "..with our nearest neighbor function"
   ]
  },
  {
   "cell_type": "markdown",
   "id": "1136c891",
   "metadata": {
    "slideshow": {
     "slide_type": "slide"
    }
   },
   "source": [
    "## Modeling a discrete multi-stage transition system\n",
    "\n",
    "<img src=\"./img/deterministic_multistage_problem.png\" width=\"60%\">\n",
    "\n",
    "\n",
    "\n",
    "- $k$ the current step / stage (e.g. the number of cities visited so far), out of $N$ stages.\n",
    "- $x_k$ the current state needed to calculate the next step and the cost\n",
    "    - e.g. the cities visited visited so far and the current city\n",
    "    - the start state is defined as $x_0$\n",
    "- $u_k$ a decision from the set $U_k(x_k)$ of feasible decisions when being in stage $k$ and in state $x_k$ \n",
    "  - e.g. a city that was not visited so far  \n",
    "- $g(x_k, u_k)$ the cost of choosing decision $u_k$ when being in state $x_k$\n",
    "  - e.g. the distance to the next city\n",
    "- $f(x_k, u_k)$ a transition function that computes $x_{k+1}$ from $x_k$ und the decision $u_k$ \n",
    "  - e.g. an augmentation of the cities visited so far and an update of the current city\n",
    "\n"
   ]
  },
  {
   "cell_type": "markdown",
   "id": "a4d33031",
   "metadata": {
    "slideshow": {
     "slide_type": "slide"
    }
   },
   "source": [
    "## A dynamic programming model\n",
    "\n",
    "A model for such a discrete system as defined on the previous slide along with the optimization problem:\n",
    "\n",
    "$$\\min_{u_0,..,u_k,..u_{N-1}} \\sum_{k=0}^{N-1} g_k(x_k,u_k)$$\n",
    "\n",
    "\n",
    "..will be referred to as a **dynamic programming model** in this remainder of this course, and we will refer to this generic problem as $DP$ in what follows"
   ]
  },
  {
   "cell_type": "markdown",
   "id": "73f0b092",
   "metadata": {
    "slideshow": {
     "slide_type": "-"
    }
   },
   "source": [
    "#### Observe:\n",
    "- here, we assume a minimization problem, but it is straightforward to obtain a corresponding maximization problem\n",
    "- we also assume the cost are \"stage-wise\"-additive (but: they can be state-dependent!)\n",
    "- we assume there are no terminal costs $g(x_N)$ (would be straightforward to include)\n",
    "- there can be far more general DP models, but for now we stick to classes that can be represented as displayed above\n"
   ]
  },
  {
   "cell_type": "markdown",
   "id": "cba8ad71",
   "metadata": {
    "slideshow": {
     "slide_type": "slide"
    }
   },
   "source": [
    "## Representing a DP model in Python\n",
    "\n",
    "Let us devise a Python framework for implementing a dynamic programming model.\n",
    "\n",
    "To implement a DP model for a CO problem in this framework, we need to implement the following functions:\n",
    "- a function returning the feasible decisions $U_k$ given a state $x_k$ in stage $k$ (and the data from the instance)"
   ]
  },
  {
   "cell_type": "code",
   "execution_count": null,
   "id": "8968abdf",
   "metadata": {
    "slideshow": {
     "slide_type": "-"
    }
   },
   "outputs": [],
   "source": [
    "def feasible_decisions(instance, k, state):\n",
    "    return"
   ]
  },
  {
   "cell_type": "markdown",
   "id": "80ea0dcf",
   "metadata": {
    "slideshow": {
     "slide_type": "fragment"
    }
   },
   "source": [
    "- the transition function $f(x_k, u_k)$ returning the state $x_{k+1}$ resulting from taking decision $u_k$ when being in state $x_k$"
   ]
  },
  {
   "cell_type": "code",
   "execution_count": null,
   "id": "1bf185ea",
   "metadata": {
    "slideshow": {
     "slide_type": "-"
    }
   },
   "outputs": [],
   "source": [
    "def transition_function(instance, k, state, decision):\n",
    "    return"
   ]
  },
  {
   "cell_type": "markdown",
   "id": "2704e713",
   "metadata": {
    "slideshow": {
     "slide_type": "fragment"
    }
   },
   "source": [
    "- the cost function"
   ]
  },
  {
   "cell_type": "code",
   "execution_count": null,
   "id": "0f2d25f0",
   "metadata": {
    "slideshow": {
     "slide_type": "-"
    }
   },
   "outputs": [],
   "source": [
    "def cost_function(instance, k, state, decision):\n",
    "    return"
   ]
  },
  {
   "cell_type": "markdown",
   "id": "fd17fb01",
   "metadata": {
    "slideshow": {
     "slide_type": "slide"
    }
   },
   "source": [
    "## Representing a DP model in Python\n",
    "\n",
    "- we can collect these three functions in a `NamedTuple` as follows:"
   ]
  },
  {
   "cell_type": "code",
   "execution_count": null,
   "id": "6018ac9d",
   "metadata": {},
   "outputs": [],
   "source": [
    "class DP(NamedTuple):\n",
    "    feasible_decisions : Callable\n",
    "    transition_function : Callable\n",
    "    cost_function : Callable\n",
    "    direction : str # 'max' or 'min'"
   ]
  },
  {
   "cell_type": "markdown",
   "id": "a68e317f",
   "metadata": {
    "slideshow": {
     "slide_type": "-"
    }
   },
   "source": [
    "#### States\n",
    "- we are free to define our state representation\n",
    "- for later purposes, it will be useful if the state variable is immutable, therefore tuples or namedtuple are useful data structures for states\n",
    "\n",
    "\n",
    "#### Decisions\n",
    "- in most cases in this part, we will assume that decisions are integers, but note that this is not required as long as the transition function works\n",
    "- however, for now, we assume that decisions only induce a change between stages -- we will relax that requirement later in the course\n",
    "\n",
    "\n",
    "#### Instance data\n",
    "- all functions named above take an instance as parameter. Instance data does not have to take a certain form, it just needs to \"match\" the (problem-specific) functions"
   ]
  },
  {
   "cell_type": "markdown",
   "id": "431a94c9",
   "metadata": {
    "slideshow": {
     "slide_type": "slide"
    }
   },
   "source": [
    "## Generic helper functions to deal with maximization and minimization"
   ]
  },
  {
   "cell_type": "code",
   "execution_count": null,
   "id": "f67b15dd",
   "metadata": {
    "slideshow": {
     "slide_type": "-"
    }
   },
   "outputs": [],
   "source": [
    "@njit \n",
    "def better(value1, value2, direction):\n",
    "    if direction == \"min\":\n",
    "        return value1 < value2\n",
    "    else:\n",
    "        return value1 > value2"
   ]
  },
  {
   "cell_type": "code",
   "execution_count": null,
   "id": "27d7ff13",
   "metadata": {
    "slideshow": {
     "slide_type": "fragment"
    }
   },
   "outputs": [],
   "source": [
    "@njit\n",
    "def best_element_and_value(elements, values, direction):\n",
    "    if direction == \"min\":\n",
    "        best_index = np.argmin(values)\n",
    "    else:\n",
    "        best_index = np.argmax(values)\n",
    "    return elements[best_index], values[best_index]"
   ]
  },
  {
   "cell_type": "code",
   "execution_count": null,
   "id": "323c8d40",
   "metadata": {
    "slideshow": {
     "slide_type": "fragment"
    }
   },
   "outputs": [],
   "source": [
    "@njit\n",
    "def get_n_best_elements_and_values(n, elements, values, direction):\n",
    "    \n",
    "    if direction == \"min\":\n",
    "        sorted_indexes = np.argsort(values)\n",
    "    else:\n",
    "        sorted_indexes = np.argsort(-values)\n",
    "    return elements[sorted_indexes[:n]], values[sorted_indexes[:n]]\n"
   ]
  },
  {
   "cell_type": "code",
   "execution_count": null,
   "id": "70fd6852",
   "metadata": {
    "slideshow": {
     "slide_type": "fragment"
    }
   },
   "outputs": [],
   "source": [
    "get_n_best_elements_and_values(2, np.array([1,2,3]), np.array([2,3,5]), 'min')"
   ]
  },
  {
   "cell_type": "markdown",
   "id": "cc976036",
   "metadata": {
    "slideshow": {
     "slide_type": "slide"
    }
   },
   "source": [
    "## Example: A DP model for the Knapsack Problem\n",
    "- given a  knapsack instance with $N$ items with weights $w_k$ and profits $p_k$ (zero-indexed) and capacity $W$ \n",
    "\n",
    "- state $x_k$: accumulated weight after adding the first $k-1$ items, $x_0 = 0$\n",
    "- decision $u_k \\in \\{0, 1\\}$ (0: do not add item $k$ to the knapsack; 1: add item $k$)\n",
    "- $U_k(x_k) = \\begin{cases} \n",
    "                \\{0,1\\} \\quad \\mathrm{if} \\quad x_k + w_k \\leq W \\\\\n",
    "                \\{0 \\} \\quad \\mathrm{else}\n",
    "\\end{cases}$\n",
    "\n",
    "- $f(x_k, u_k) = x_k + w_k u_k $\n",
    "\n",
    "- $g(x_k, u_k) = p_k u_k$\n",
    "\n",
    "We have a maximization-objective:\n",
    "\n",
    "$$\\max_{u_0,..,u_k,..u_{N-1}} \\sum_{k=0}^{N-1} g_k(x_k,u_k)$$"
   ]
  },
  {
   "cell_type": "markdown",
   "id": "59060a4d",
   "metadata": {
    "slideshow": {
     "slide_type": "slide"
    }
   },
   "source": [
    "## The Knapsack DP Model in Python"
   ]
  },
  {
   "cell_type": "code",
   "execution_count": null,
   "id": "5f51661e",
   "metadata": {
    "slideshow": {
     "slide_type": "fragment"
    }
   },
   "outputs": [],
   "source": [
    "class  KPInstance(NamedTuple):\n",
    "    values:np.array\n",
    "    weights:np.array\n",
    "    capacity:int\n",
    "    N:int   \n",
    "\n",
    "@njit\n",
    "def feasible_decisions_kp(instance, k, acc_weight):    \n",
    "    if acc_weight + instance.weights[k] <= instance.capacity: return np.array([0,1])\n",
    "    else: return np.array([0])\n",
    "\n",
    "@njit\n",
    "def transition_function_kp(instance, k, acc_weight, put):\n",
    "    return acc_weight + put*instance.weights[k]\n",
    "\n",
    "@njit\n",
    "def cost_function_kp(instance, k, acc_weight, put):\n",
    "      return put*instance.values[k]"
   ]
  },
  {
   "cell_type": "markdown",
   "id": "6ee9f760",
   "metadata": {
    "slideshow": {
     "slide_type": "fragment"
    }
   },
   "source": [
    "Putting all together, and stating that we have a maximization objective"
   ]
  },
  {
   "cell_type": "code",
   "execution_count": null,
   "id": "ddaa9efe",
   "metadata": {
    "slideshow": {
     "slide_type": "-"
    }
   },
   "outputs": [],
   "source": [
    "dp_kp = DP(feasible_decisions_kp, transition_function_kp,  cost_function_kp, \"max\")"
   ]
  },
  {
   "cell_type": "markdown",
   "id": "de9cc3d3",
   "metadata": {
    "slideshow": {
     "slide_type": "slide"
    }
   },
   "source": [
    "## An instance reader function for the Knapsack Problem"
   ]
  },
  {
   "cell_type": "code",
   "execution_count": null,
   "id": "4659acc9",
   "metadata": {},
   "outputs": [],
   "source": [
    "\n",
    "def read_kp_instance(filename, sorted=True):\n",
    "    weights=[]\n",
    "    values=[]\n",
    "    with open(filename) as f: # open the file\n",
    "        line = f.readline().split()  # split first row\n",
    "        number_of_items = int(line[0]) # read number of items\n",
    "        capacity = int(line[1]) # read capacity\n",
    "        for i in range(number_of_items): # read rows for the items\n",
    "            line = f.readline().split() # split row\n",
    "            values.append(int(line[0])) # read value\n",
    "            weights.append(int(line[1])) # read weight\n",
    "            \n",
    "    values = np.array(values)\n",
    "    weights = np.array(weights)    \n",
    "    \n",
    "    \n",
    "    if sorted:\n",
    "        sorted_indexes = np.argsort(-1* values/weights)\n",
    "    values = values[sorted_indexes]\n",
    "    weights = weights[sorted_indexes]\n",
    "     \n",
    "        \n",
    "    return KPInstance(values, weights, capacity, number_of_items)\n",
    "\n"
   ]
  },
  {
   "cell_type": "code",
   "execution_count": null,
   "id": "26368e64",
   "metadata": {},
   "outputs": [],
   "source": [
    "#filename = \"./../problems/knapsack/instances/knapPI_1_5000_1000_1\"\n",
    "filename = \"./../problems/knapsack/instances/knapPI_1_100_1000_1\"\n",
    "kp_instance = read_kp_instance(filename)"
   ]
  },
  {
   "cell_type": "markdown",
   "id": "2783806e",
   "metadata": {
    "slideshow": {
     "slide_type": "slide"
    }
   },
   "source": [
    "## Example: A DP model for the TSP\n",
    "\n",
    "Given:\n",
    "- a TSP instance with a $N$ cities and distances $d_{i,j}$ between cities $i,j$\n",
    "  - let us denote with $\\mathcal{N} = \\{1, \\ldots N \\}$ the set of cities \n",
    "  \n",
    "\n",
    "\n",
    "- state $x_k$: sequence / ordered set of cities visited so far, $x_0 = i^0$ where $i^0$ is the first city\n",
    "  - let us define $l(x_k)$ as the last element in the ordered set, that is, the \"current\" city\n",
    "\n",
    "- decision $u_k \\in \\mathcal{N}$ city to visit next \n",
    "- $U_k(x_k) = \\mathcal{N} \\setminus x_k$\n",
    "- $f(x_k, u_k) = x_k + u_k$  (here, with $+$ we mean to append $u_k$ to the sequence / ordered set $x_k$\n",
    "- $g(x_k, u_k) = \\begin{cases} \n",
    "                d_{l(x_k), u_k} \\quad \\mathrm{if} \\quad k < N-1 \\\\\n",
    "               d_{l(x_k), u_k} +  d_{u_k, i^0} \\quad  \\mathrm{if} \\quad k = N-1\n",
    "\\end{cases}$\n",
    "\n",
    "We have a minimization objective:\n",
    "\n",
    "$$\\min_{u_0,..,u_k,..u_{N-1}} \\sum_{k=0}^{N-1} g_k(x_k,u_k)$$\n",
    "\n"
   ]
  },
  {
   "cell_type": "markdown",
   "id": "a65e541a",
   "metadata": {
    "slideshow": {
     "slide_type": "slide"
    }
   },
   "source": [
    "## Example: DP model for the TSP in Python"
   ]
  },
  {
   "cell_type": "code",
   "execution_count": null,
   "id": "275bbbfb",
   "metadata": {
    "slideshow": {
     "slide_type": "-"
    }
   },
   "outputs": [],
   "source": [
    "class TSPInstance(NamedTuple):\n",
    "    distance_matrix : np.array\n",
    "    N : int\n",
    "\n",
    "@njit\n",
    "def feasible_decisions_tsp(instance, k, sequence):\n",
    "    return np.array([i for i in range(instance.N) if i not in sequence])    \n",
    "\n",
    "@njit\n",
    "def transition_function_tsp(instance, k, sequence, neighbor):\n",
    "    return sequence + [neighbor]\n",
    "\n",
    "@njit\n",
    "def cost_function_tsp(instance, k, sequence, neighbor):\n",
    "    \n",
    "    if k < instance.N-1:\n",
    "        return instance.distance_matrix[sequence[k-1]][neighbor]\n",
    "    else:\n",
    "        return instance.distance_matrix[sequence[k-1]][neighbor] + instance.distance_matrix[neighbor][sequence[0]]\n",
    "\n",
    "dp_tsp = DP(feasible_decisions_tsp, transition_function_tsp,  cost_function_tsp, \"min\")"
   ]
  },
  {
   "cell_type": "markdown",
   "id": "fd7e713e",
   "metadata": {
    "slideshow": {
     "slide_type": "slide"
    }
   },
   "source": [
    "## An instance reader function for the TSP"
   ]
  },
  {
   "cell_type": "code",
   "execution_count": null,
   "id": "036f9b85",
   "metadata": {},
   "outputs": [],
   "source": [
    "def read_tsp_instance(filename):\n",
    "    \n",
    "    distance_matrix = tsplib_distance_matrix(filename)\n",
    "    return TSPInstance(distance_matrix, len(distance_matrix))\n",
    "\n"
   ]
  },
  {
   "cell_type": "code",
   "execution_count": null,
   "id": "409a91b6",
   "metadata": {},
   "outputs": [],
   "source": [
    "tsplib_file = \"./../problems/tsp/instances/brazil58.tsp\" # optimal solution 25395 (lt. http://comopt.ifi.uni-heidelberg.de/software/TSPLIB95/STSP.html)\n",
    "#tsplib_file = \"./../problems/tsp/instances/berlin52.tsp\" # optimal solution  7542 (lt. http://comopt.ifi.uni-heidelberg.de/software/TSPLIB95/STSP.html)\n",
    "\n",
    "tsp_instance = read_tsp_instance(tsplib_file)"
   ]
  },
  {
   "cell_type": "markdown",
   "id": "8ce689c3",
   "metadata": {
    "slideshow": {
     "slide_type": "slide"
    }
   },
   "source": [
    "# Generic implementations of algorithms based on the generic DP model"
   ]
  },
  {
   "cell_type": "markdown",
   "id": "6fb27eb2",
   "metadata": {
    "slideshow": {
     "slide_type": "slide"
    }
   },
   "source": [
    "## Generic myopic greedy for DP models\n",
    "\n",
    "- given a generic DP model, we can now start devising generic implementation of algorithms operating on DP models\n",
    "- as an example, we can generically implement greedy as follows:\n",
    "\n",
    "**Observe:**\n",
    "- below, we avoid some loops by directly working on arrays of decisions\n"
   ]
  },
  {
   "cell_type": "code",
   "execution_count": null,
   "id": "3d990e9f",
   "metadata": {},
   "outputs": [],
   "source": [
    "@njit\n",
    "def dp_greedy(dp, instance, k_start, state_start):\n",
    "    \n",
    "    state = state_start\n",
    "    \n",
    "    total_cost = 0\n",
    "    \n",
    "    for k in range(k_start, instance.N):    \n",
    "        \n",
    "        # get decisions and associated costs\n",
    "        decisions = dp.feasible_decisions(instance, k, state)               \n",
    "        costs = np.array([dp.cost_function(instance, k, state, d) for d in decisions])\n",
    "        \n",
    "        #get the best decision according to one-step costs\n",
    "        best_decision, best_cost = best_element_and_value(decisions, costs, dp.direction) \n",
    "        \n",
    "        state = dp.transition_function(instance, k, state, best_decision)\n",
    "\n",
    "        total_cost += best_cost\n",
    "        \n",
    "    return  state, total_cost"
   ]
  },
  {
   "cell_type": "markdown",
   "id": "70bfda3d",
   "metadata": {
    "slideshow": {
     "slide_type": "slide"
    }
   },
   "source": [
    "## Try with both KP and TSP:"
   ]
  },
  {
   "cell_type": "markdown",
   "id": "e3c4f702",
   "metadata": {
    "slideshow": {
     "slide_type": "-"
    }
   },
   "source": [
    "Knapsack Problem:"
   ]
  },
  {
   "cell_type": "code",
   "execution_count": null,
   "id": "a66528aa",
   "metadata": {
    "slideshow": {
     "slide_type": "-"
    }
   },
   "outputs": [],
   "source": [
    "dp_greedy(dp_kp, kp_instance, 0, 0)[1]"
   ]
  },
  {
   "cell_type": "markdown",
   "id": "a5f47bae",
   "metadata": {
    "slideshow": {
     "slide_type": "fragment"
    }
   },
   "source": [
    "TSP:"
   ]
  },
  {
   "cell_type": "code",
   "execution_count": null,
   "id": "a5978d4a",
   "metadata": {
    "slideshow": {
     "slide_type": "-"
    }
   },
   "outputs": [],
   "source": [
    "dp_greedy(dp_tsp, tsp_instance, 1, [0])[1]"
   ]
  },
  {
   "cell_type": "markdown",
   "id": "48e43dcf",
   "metadata": {
    "slideshow": {
     "slide_type": "slide"
    }
   },
   "source": [
    "## Greedy as a myopic policy \n",
    "\n",
    "- we will see later how to solve a $DP$ model to optimality\n",
    "\n",
    "- in general, we refer to a function $\\pi$ that maps a state $x_k$ to a decision $u_k$ as a **policy**\n",
    "- in a deterministic problem, given a policy $\\pi$, we can obtain a solution to $DP$ by \n",
    "  - starting from $x_k := x_0$ and selecting the $u_k$ according to the policy\n",
    "  - applying the state transition $x_{k+1} = f(x_k, u_k)$\n",
    "  - and continue until $k:= N -1$"
   ]
  },
  {
   "cell_type": "markdown",
   "id": "fb8f6429",
   "metadata": {
    "slideshow": {
     "slide_type": "fragment"
    }
   },
   "source": [
    "Greedy as a policy:\n",
    "- we can view the greedy algorithm as being based on a policy that selects a $u_k$ that minimizes the transition costs $g$:\n",
    "\n",
    "$$u_k = \\underset{u_k \\in U_k(x_k)}{\\operatorname{argmin}} \\, g(x_k, u_k)$$"
   ]
  },
  {
   "cell_type": "markdown",
   "id": "91c29999",
   "metadata": {
    "slideshow": {
     "slide_type": "fragment"
    }
   },
   "source": [
    "Observe: This policy is **myopic** since it does not account for how deciding for a certain $u_k$ affects the quality of the remaining solution process - hence its name: *greedy*."
   ]
  },
  {
   "cell_type": "markdown",
   "id": "5fca29b3",
   "metadata": {
    "slideshow": {
     "slide_type": "slide"
    }
   },
   "source": [
    "## Accounting for the future: The value function \n",
    "\n",
    "\n",
    "- to quantify the future value (also called cost-to-go) of a state $x_k$, we use the so-called value function $J(x_k)$ \n",
    "  - given a state $x_k$, $J(x_k)$ represents the cost / value obtained by solving the residual problem from stages $k$ to $N-1$.\n",
    "  - the corresponding problem starting at $k$ is also referred to as the **tail subproblem**.\n",
    "  \n",
    " "
   ]
  },
  {
   "cell_type": "markdown",
   "id": "bd2bec35",
   "metadata": {
    "slideshow": {
     "slide_type": "fragment"
    }
   },
   "source": [
    " \n",
    "   \n",
    "Given a value function, we can compute the decision to take in stage  $k$ as:\n",
    "\n",
    "$$u_k = \\underset{u_k \\in U_k(x_k)}{\\operatorname{argmin}} \\, \\Big( g(x_k, u_k) + J(f(x_k, u_k)) \\Big) $$\n",
    "\n",
    "\n",
    "Observe that for the greedy policy for the knapsack, $J(x_{k}) = 0$ "
   ]
  },
  {
   "cell_type": "markdown",
   "id": "b45fe782",
   "metadata": {
    "slideshow": {
     "slide_type": "slide"
    }
   },
   "source": [
    "## Q-values / Q-factors\n",
    "\n",
    "- in some cases, in particular in some reinforcement learning approaches, it is convenient to use so-called Q-factors,  Q-values or Q-functions\n",
    "\n",
    "$$Q_k(x_k, u_k) = g(x_k, u_k) + J\\big( f(x_k, u_k ) \\big)$$"
   ]
  },
  {
   "cell_type": "markdown",
   "id": "b4b96e36",
   "metadata": {
    "slideshow": {
     "slide_type": "slide"
    }
   },
   "source": [
    "..using these Q-factors, we can re-write the problem of selecting the next decision / control / action as:\n",
    "\n",
    "$$u_k = \\underset{u_k \\in U_k(x_k)}{\\operatorname{argmin}} \\, Q_k(x_k, u_k) $$"
   ]
  },
  {
   "cell_type": "markdown",
   "id": "35144354",
   "metadata": {
    "slideshow": {
     "slide_type": "slide"
    }
   },
   "source": [
    "## Optimal and approximate value functions\n",
    "\n",
    "\n",
    "#### The optimal (exact) value function\n",
    "- we denote the exact / optimal value function with $J^*$.\n",
    "- if we have access to $J^*$, then the greedy policy based on $g(x_k, u_k) + J(f(x_k, u_k))$ gives us an optimal solution\n",
    "- the problem: $J^*$ is typically probitively hard"
   ]
  },
  {
   "cell_type": "markdown",
   "id": "554fb76b",
   "metadata": {
    "slideshow": {
     "slide_type": "slide"
    }
   },
   "source": [
    "#### Approximate value functions\n",
    "\n",
    "- we denote an approximate value function with $\\tilde{J}$\n",
    "- a greedy policy based on $\\tilde{J}$ is suboptimal,  but can be much faster to compute\n",
    "- approximate value functions can be determined in various ways $\\tilde{J}$:\n",
    "  - using offline training / learning\n",
    "  - using problem simplification or aggregation (solve an approximate tail problem)\n",
    "  - using online techniques (e.g. rollout), see later"
   ]
  },
  {
   "cell_type": "markdown",
   "id": "0df7a5c7",
   "metadata": {
    "slideshow": {
     "slide_type": "slide"
    }
   },
   "source": [
    "## Generic Rollout with a Base Heuristic\n",
    "\n",
    "- recall that given an approximate value function $\\tilde{J}$, we can construct a policy that takes the decision according to the best approximate $Q-$-value $\\tilde{Q}_k(x_k, u_k)$\n",
    "\n",
    "$$u_k = \\underset{u_k \\in U_k(x_k)}{\\operatorname{argmin}} \\, \\tilde{Q}_k(x_k, u_k) = \\underset{u_k \\in U_k(x_k)}{\\operatorname{argmin}} \\, \\Big( g(x_k, u_k) +  \\tilde{J}(f(x_k, u_k)) \\Big) $$\n",
    "  \n",
    "  \n",
    "- key idea of rollout:  run a (simple and fast) base heuristic on the tail subproblem starting from $x_{k+1} = f(x_k, u_k)$ to obtain a cost / value $H(f(x_k, u_k))$, and use that value as value function approximation:\n",
    "  - $\\tilde{J}(x_{k+1}) = H (x_{k+1})$\n",
    "\n",
    "\n",
    "<img src=\"./img/rollout_general.png\" width=\"60%\">"
   ]
  },
  {
   "cell_type": "markdown",
   "id": "2584c9dc",
   "metadata": {
    "slideshow": {
     "slide_type": "slide"
    }
   },
   "source": [
    "## Generic rollout with greedy base heuristic in Python\n",
    "- given that we have a generic greedy, we can also implement a generic rollout algorithm\n",
    "- observe: by using `@njit(parallel=True)`, numba will try parallelzing the list comprehension involving the dp_greedy call"
   ]
  },
  {
   "cell_type": "code",
   "execution_count": null,
   "id": "1e7deabe",
   "metadata": {
    "slideshow": {
     "slide_type": "-"
    }
   },
   "outputs": [],
   "source": [
    "@njit(parallel=True)\n",
    "def dp_rollout(dp, instance, k_start, state_start):\n",
    "    \n",
    "    state = state_start\n",
    "    \n",
    "    total_cost = 0\n",
    "    \n",
    "    for k in range(k_start, instance.N):    \n",
    "         \n",
    "        decisions = dp.feasible_decisions(instance, k, state)        \n",
    "        costs = np.array([dp.cost_function(instance, k, state, d) for d in decisions])        \n",
    "    \n",
    "        next_states = [dp.transition_function(instance, k, state, d) for d in decisions]\n",
    "        \n",
    "        # here, we now rund the generic greedy\n",
    "        approx_costs_to_go = np.array([dp_greedy(dp, instance, k+1, next_state)[1] for next_state in next_states])\n",
    "        \n",
    "        # array of q_values\n",
    "        q_values = costs+approx_costs_to_go\n",
    "        \n",
    "        # now, decision is made based on one-step cost + cost-to-go-approximation\n",
    "        best_decision,_ = best_element_and_value(decisions, q_values, dp.direction)\n",
    "        \n",
    "        state = dp.transition_function(instance, k, state, best_decision)\n",
    "\n",
    "        total_cost += dp.cost_function(instance, k, state, best_decision)\n",
    "        \n",
    "    return state, total_cost\n"
   ]
  },
  {
   "cell_type": "markdown",
   "id": "6daea3ec",
   "metadata": {
    "slideshow": {
     "slide_type": "slide"
    }
   },
   "source": [
    "## Trying it out"
   ]
  },
  {
   "cell_type": "code",
   "execution_count": null,
   "id": "ac91d5b5",
   "metadata": {
    "slideshow": {
     "slide_type": "-"
    }
   },
   "outputs": [],
   "source": [
    "%%time\n",
    "dp_rollout(dp_kp, kp_instance,0,0)[1]"
   ]
  },
  {
   "cell_type": "code",
   "execution_count": null,
   "id": "f4e7555e",
   "metadata": {
    "slideshow": {
     "slide_type": "-"
    }
   },
   "outputs": [],
   "source": [
    "%%time\n",
    "dp_rollout(dp_tsp, tsp_instance,1,[0])[1]"
   ]
  },
  {
   "cell_type": "markdown",
   "id": "ae5b5f83",
   "metadata": {
    "slideshow": {
     "slide_type": "slide"
    }
   },
   "source": [
    "## Generic simplified rollout\n",
    "\n",
    "- recall that, just as Bertsekas in his books, use the term `simplified` to state that only a promising subset of all decisions in a given stage will be evaluated using the greedy heuristic"
   ]
  },
  {
   "cell_type": "code",
   "execution_count": null,
   "id": "93ccf926",
   "metadata": {},
   "outputs": [],
   "source": [
    "@njit(parallel=True)\n",
    "def dp_simplified_rollout(dp, instance, k_start, state_start, n_candidates):\n",
    "    \n",
    "    state = state_start\n",
    "    \n",
    "    total_cost = 0\n",
    "    \n",
    "    for k in range(k_start, instance.N):    \n",
    "        \n",
    "        \n",
    "        decisions =  dp.feasible_decisions(instance, k, state)\n",
    "        \n",
    "        costs = np.array([dp.cost_function(instance, k, state, d) for d in decisions])\n",
    "            \n",
    "        # simplification step!\n",
    "        decisions, costs = get_n_best_elements_and_values(n_candidates, decisions, costs, dp.direction)\n",
    "           \n",
    "        next_states = [dp.transition_function(instance, k, state, d) for d in decisions]\n",
    "        \n",
    "        approx_costs_to_go = np.array([dp_greedy(dp, instance, k+1, next_state)[1] for next_state in next_states])\n",
    "        \n",
    "        best_decision,_ = best_element_and_value(decisions, costs+approx_costs_to_go, dp.direction)\n",
    "        \n",
    "        state = dp.transition_function(instance, k, state, best_decision)\n",
    "\n",
    "        total_cost += dp.cost_function(instance, k, state, best_decision)\n",
    "        \n",
    "    return state, total_cost\n",
    "\n"
   ]
  },
  {
   "cell_type": "markdown",
   "id": "dc270e4b",
   "metadata": {
    "slideshow": {
     "slide_type": "slide"
    }
   },
   "source": [
    "## Trying it out"
   ]
  },
  {
   "cell_type": "code",
   "execution_count": null,
   "id": "a1ae4521",
   "metadata": {
    "slideshow": {
     "slide_type": "-"
    }
   },
   "outputs": [],
   "source": [
    "%%time\n",
    "dp_simplified_rollout(dp_kp, kp_instance, 0, 0, 10)[1]"
   ]
  },
  {
   "cell_type": "code",
   "execution_count": null,
   "id": "a1336fc8",
   "metadata": {
    "slideshow": {
     "slide_type": "-"
    }
   },
   "outputs": [],
   "source": [
    "%%time\n",
    "dp_simplified_rollout(dp_tsp, tsp_instance, 1, [0], 10)[1]"
   ]
  },
  {
   "cell_type": "markdown",
   "id": "daec5402",
   "metadata": {
    "slideshow": {
     "slide_type": "slide"
    }
   },
   "source": [
    "## Multi-step lookahead\n",
    "\n",
    "- in (exact) dynamic programming (by reaching), we (somewhat) construct a full state-transition graph\n",
    "- in rollout, in each iteration, only the first step is \"exact\", the rest of the graph is approximated\n",
    "- in multi-step lookahead, we partially expand the tree for (more than one stage) to have more \"exact\" steps before using a value function approximation for selection\n",
    "- below: multi-step lookahead with rollout for value function approximation\n",
    "\n",
    "<img src=\"./img/multistep_lookahead.png\" width=\"60%\">"
   ]
  },
  {
   "cell_type": "markdown",
   "id": "1b3a69ef",
   "metadata": {
    "slideshow": {
     "slide_type": "slide"
    }
   },
   "source": [
    "## Generic Simplified Multistage Lookahead"
   ]
  },
  {
   "cell_type": "code",
   "execution_count": null,
   "id": "b65960fa",
   "metadata": {},
   "outputs": [],
   "source": [
    "@njit\n",
    "def dp_simplified_multi_stage_lookahead_rollout(dp, instance, k_start, state_start, n_candidates, number_of_lookahead_steps = 1):\n",
    "    \n",
    "    state = state_start\n",
    "    \n",
    "    total_cost = 0\n",
    "    \n",
    "    for k in range(k_start, instance.N):    \n",
    "        \n",
    "        \n",
    "        decisions = dp.feasible_decisions(instance, k, state)\n",
    "        \n",
    "        costs = np.array([dp.cost_function(instance, k, state, d) for d in decisions])\n",
    "        \n",
    "        # simplification step\n",
    "       # decisions, costs = get_n_best_elements_and_values(n_candidates, decisions, costs, dp.direction)\n",
    "        \n",
    "        next_states = [dp.transition_function(instance, k, state, d) for d in decisions]\n",
    "                \n",
    "        if number_of_lookahead_steps == 1: #this is basically rollout\n",
    "            \n",
    "            approx_costs_to_go = np.array([dp_greedy(dp, instance, k+1, next_state)[1] for next_state in next_states])\n",
    "        else:\n",
    "            approx_costs_to_go = np.array([dp_simplified_multi_stage_lookahead_rollout(dp, instance, k+1, next_state, n_candidates, number_of_lookahead_steps - 1)[1] for next_state in next_states])\n",
    "            \n",
    "            \n",
    "        best_decision,_ = best_element_and_value(decisions, costs+approx_costs_to_go, dp.direction)\n",
    "        \n",
    "        state = dp.transition_function(instance, k, state, best_decision)\n",
    "\n",
    "        total_cost += dp.cost_function(instance, k, state, best_decision)\n",
    "        \n",
    "    return state, total_cost\n",
    "\n"
   ]
  },
  {
   "cell_type": "markdown",
   "id": "6f46da2f",
   "metadata": {
    "slideshow": {
     "slide_type": "slide"
    }
   },
   "source": [
    "## Trying it out"
   ]
  },
  {
   "cell_type": "code",
   "execution_count": null,
   "id": "444a4850",
   "metadata": {
    "slideshow": {
     "slide_type": "-"
    }
   },
   "outputs": [],
   "source": [
    "dp_simplified_multi_stage_lookahead_rollout(dp_kp, kp_instance, 0, 0, 10)[1]"
   ]
  },
  {
   "cell_type": "markdown",
   "id": "dbc7bef8",
   "metadata": {
    "slideshow": {
     "slide_type": "slide"
    }
   },
   "source": [
    "## Task: Scheduling jobs on two identical machines with time-dependent processing times, minimizing total completion time\n",
    "\n",
    "Let us consider the following problem:\n",
    "- we are given a set $J$ of of jobs that can be processed on two identical machines, starting at period $t$ = 1\n",
    "- each job has a (machine-independent) \"basic\" processing time of $b_j$; however, the processing time depends on the start time $t_j$ at which job $j$ is started: the processing time is then $b_jt_j$\n",
    "- jobs cannot be interrupted\n",
    "- we are looking for an assignment of jobs to machines such that the total completion time, that is, the sum of the total processing time on both machines is minimized"
   ]
  },
  {
   "cell_type": "markdown",
   "id": "83a787a4",
   "metadata": {
    "slideshow": {
     "slide_type": "-"
    }
   },
   "source": [
    "- as a toy instance, consider:"
   ]
  },
  {
   "cell_type": "code",
   "execution_count": null,
   "id": "5f03756d",
   "metadata": {
    "slideshow": {
     "slide_type": "-"
    }
   },
   "outputs": [],
   "source": [
    "basic_job_durations = [4,7,9,3,8,5,2]"
   ]
  },
  {
   "cell_type": "markdown",
   "id": "026f0c76",
   "metadata": {
    "slideshow": {
     "slide_type": "-"
    }
   },
   "source": [
    "- for large instances, just use the knapsack instances, using the items as jobs and the weights as basic processing times, or randomly generate instances"
   ]
  },
  {
   "cell_type": "markdown",
   "id": "28d0a434",
   "metadata": {
    "slideshow": {
     "slide_type": "fragment"
    }
   },
   "source": [
    "**Task:** Write a DP model (both \"on paper\" and in Python) for that problem"
   ]
  },
  {
   "cell_type": "markdown",
   "id": "f4008919",
   "metadata": {
    "slideshow": {
     "slide_type": "slide"
    }
   },
   "source": [
    "## Solving exactly with DP by Reaching\n",
    "\n",
    "- in all the approaches discussed so far, we constructed the solution stage-by-stage, in a single pass\n",
    "- one possible exact approach is to \n",
    "\n",
    "- we can call the resulting graph the state-transition graph of the DP"
   ]
  },
  {
   "cell_type": "markdown",
   "id": "791340a1",
   "metadata": {
    "slideshow": {
     "slide_type": "slide"
    }
   },
   "source": [
    "## Exact Dynamic Programming: An Illustration of the Knapsack Case\n",
    "\n",
    "One approach to exactly solve a DP model is to\n",
    "- create the state transition graph and\n",
    "- compute the shortest (longest) path in the graph\n",
    "\n",
    "\n",
    "<img src=\"./img/reaching_05.png\" width=\"60%\">\n",
    "\n"
   ]
  },
  {
   "cell_type": "markdown",
   "id": "7707e8c3",
   "metadata": {
    "slideshow": {
     "slide_type": "slide"
    }
   },
   "source": [
    "## Decision Diagrams for Optimization: An Overview\n",
    "\n",
    "An **exact** Decision Diagram is (almost) the same as the state space graph of a DP for a maximization problem\n",
    "\n",
    "However, the field of DDs for optimization involve a set of interesting and generic concepts:\n",
    "- an exact reduction scheme that allows reducing the size of an exact DD\n",
    "- restricted DDs for compactly representing a subset of all feasible solutions and for obtaining lower bounds\n",
    "- relaxed DDs compactly representing a superset of all feasible solutions and for obtaining upper bounds\n",
    "- a generic branch-and-bound scheme only relying on restricted and relaxed DDs\n",
    "\n",
    "\n",
    "\n"
   ]
  },
  {
   "cell_type": "markdown",
   "id": "aa3294b4",
   "metadata": {
    "slideshow": {
     "slide_type": "slide"
    }
   },
   "source": [
    "## Exact Decision Diagrams"
   ]
  },
  {
   "cell_type": "markdown",
   "id": "6d5243d7",
   "metadata": {
    "slideshow": {
     "slide_type": "-"
    }
   },
   "source": [
    "- given a DP model, we can view an exact DD as a state-transition-graph, with one exception:\n",
    "  - we introduce a terminal node that forms the target of all arcs emanating from layer $N-1$\n",
    "- just as in the DP by reaching algorithm, we can construct the exact DD by \n"
   ]
  },
  {
   "cell_type": "markdown",
   "id": "7300f2a6",
   "metadata": {
    "slideshow": {
     "slide_type": "slide"
    }
   },
   "source": [
    "## A Decision Diagram data structure\n",
    "\n",
    "We will introduce a class `DecisionDiagram` that represents a DD\n",
    "- consisting of $N$ + 1 layers indexed from 0 to $N$\n",
    "    - each layer is a dictionary where the key is a state and the value is a `NodeInfo` object\n",
    "  - (problem-specific) state values representing the start (source) state and the sink state\n",
    "  "
   ]
  },
  {
   "cell_type": "code",
   "execution_count": null,
   "id": "48947ef8",
   "metadata": {
    "slideshow": {
     "slide_type": "-"
    }
   },
   "outputs": [],
   "source": [
    "import networkx as nx\n",
    "\n",
    "class DecisionDiagram:        \n",
    "    def __init__(self, number_of_layers, source_layer, source_state, sink_state, direction = 'max'):\n",
    "        self.g = nx.MultiDiGraph()\n",
    "        self.number_of_layers = number_of_layers\n",
    "        self.layers = [set() for l in range(0, number_of_layers)]\n",
    "        self.source_state = source_state\n",
    "        self.sink_state = sink_state\n",
    "        self.layers[source_layer].add(source_state)\n",
    "        self.g.add_node((source_layer, source_state), best_dist = 0, best_in_edge = None)\n",
    "        self.direction = direction\n",
    "        self.last_exact_layer = source_layer\n",
    "        \n",
    "\n",
    "\n",
    "\n",
    "        \n",
    "        \n",
    "        \n",
    "        \n",
    "        \n",
    "        "
   ]
  },
  {
   "cell_type": "markdown",
   "id": "264ef3e7",
   "metadata": {
    "slideshow": {
     "slide_type": "slide"
    }
   },
   "source": [
    "# Storing node information"
   ]
  },
  {
   "cell_type": "markdown",
   "id": "3f492476",
   "metadata": {
    "slideshow": {
     "slide_type": "slide"
    }
   },
   "source": [
    "## Building an exact DD by top-down-compilation\n",
    "- building an exact DD is basically the same as building the DP by reaching: states are \"discovered\" layer per layer\n",
    "- by applying the transition function to each feasible decision in each state in the layer under consideration\n",
    "- in the following algorithm, we store the best distance from the source / root node as well as the preceding node in each node\n",
    "- this means that the best path in the DD is computed \"in passing\""
   ]
  },
  {
   "cell_type": "markdown",
   "id": "54758e22",
   "metadata": {
    "slideshow": {
     "slide_type": "slide"
    }
   },
   "source": [
    "## Building an exact DD by top-down-compilation in Python\n",
    "- observe: here, we introduce a sink state as a \"dummy\" state (that is otherwise not reachable)"
   ]
  },
  {
   "cell_type": "code",
   "execution_count": null,
   "id": "ab376970",
   "metadata": {},
   "outputs": [],
   "source": [
    "def build_exact_dd(dp, instance, start_layer, start_state, sink_state):\n",
    "    \n",
    "    dd = DecisionDiagram(instance.N+1, start_layer, start_state, sink_state, dp.direction)\n",
    "    \n",
    "    state = start_state\n",
    "    total_cost = 0\n",
    "    \n",
    "    for k in range(0,instance.N):\n",
    "        \n",
    "        for state in dd.layers[k]:\n",
    "            decisions = dp.feasible_decisions(instance, k, state)\n",
    "            \n",
    "            for decision in decisions:\n",
    "                if k < instance.N -1: # if we are the final layer, point to the \"sink state\"\n",
    "                    next_state = dp.transition_function(instance,k,state, decision)\n",
    "                else:\n",
    "                    next_state = sink_state\n",
    "                \n",
    "                add_transition_dd(dd, k, state, decision, next_state, dp.cost_function(instance, k, state, decision))\n",
    "   \n",
    "    k = instance.N-1\n",
    "    \n",
    "    return dd"
   ]
  },
  {
   "cell_type": "markdown",
   "id": "67474bd2",
   "metadata": {
    "slideshow": {
     "slide_type": "slide"
    }
   },
   "source": [
    "## Creating new nodes: adding the result of a transition"
   ]
  },
  {
   "cell_type": "code",
   "execution_count": null,
   "id": "53c1ea71",
   "metadata": {},
   "outputs": [],
   "source": [
    "def add_transition_dd(dd, layer_index, state, decision, result_state, cost):\n",
    "    \n",
    "    layer = dd.layers[layer_index]\n",
    "    result_layer = dd.layers[layer_index+1] \n",
    "    \n",
    "    node = (layer_index, state)\n",
    "    \n",
    "    result_node = (layer_index+1, result_state)\n",
    " \n",
    "    result_dist = dd.g.nodes[node][\"best_dist\"] + cost  \n",
    "\n",
    "    if result_state not in result_layer:\n",
    "        result_layer.add(result_state)\n",
    "        dd.g.add_node(result_node, best_dist=result_dist, best_in_edge=(node,result_node,decision))\n",
    "        \n",
    "    elif better(result_dist, dd.g.nodes[result_node][\"best_dist\"], dd.direction): \n",
    "        dd.g.nodes[result_node][\"best_dist\"] = result_dist\n",
    "        dd.g.nodes[result_node][\"best_in_edge\"]=(node,result_node,decision)\n",
    "    \n",
    "    dd.g.add_edge(node, result_node, decision, cost=cost)\n"
   ]
  },
  {
   "cell_type": "code",
   "execution_count": null,
   "id": "7aa37aad",
   "metadata": {},
   "outputs": [],
   "source": []
  },
  {
   "cell_type": "markdown",
   "id": "2549d408",
   "metadata": {
    "slideshow": {
     "slide_type": "slide"
    }
   },
   "source": [
    "## Trying it out, and some utility functions:"
   ]
  },
  {
   "cell_type": "code",
   "execution_count": null,
   "id": "25b8f73c",
   "metadata": {
    "slideshow": {
     "slide_type": "-"
    }
   },
   "outputs": [],
   "source": [
    "dd = build_exact_dd(dp_kp, kp_instance, 0, 0,-1)\n"
   ]
  },
  {
   "cell_type": "markdown",
   "id": "c44d000e",
   "metadata": {
    "slideshow": {
     "slide_type": "fragment"
    }
   },
   "source": [
    "..getting the best objective"
   ]
  },
  {
   "cell_type": "code",
   "execution_count": null,
   "id": "4fc61247",
   "metadata": {
    "slideshow": {
     "slide_type": "-"
    }
   },
   "outputs": [],
   "source": [
    "def get_best_objective (dd):\n",
    "    return dd.g.nodes[(dd.number_of_layers-1,dd.sink_state)][\"best_dist\"]"
   ]
  },
  {
   "cell_type": "code",
   "execution_count": null,
   "id": "960df7c2",
   "metadata": {
    "slideshow": {
     "slide_type": "-"
    }
   },
   "outputs": [],
   "source": [
    "get_best_objective (dd)"
   ]
  },
  {
   "cell_type": "markdown",
   "id": "00670c87",
   "metadata": {
    "slideshow": {
     "slide_type": "-"
    }
   },
   "source": [
    "..getting the best path"
   ]
  },
  {
   "cell_type": "code",
   "execution_count": null,
   "id": "1e1df958",
   "metadata": {
    "slideshow": {
     "slide_type": "-"
    }
   },
   "outputs": [],
   "source": [
    "\n",
    "def get_best_path(dd):\n",
    "    \n",
    "    decisions = []\n",
    "    \n",
    "    state =  dd.sink_state\n",
    "    k = dd.number_of_layers - 1\n",
    "        \n",
    "    while k > 0:\n",
    "       # print(k)\n",
    "        node,  next_node, decision = dd.g.nodes[(k,state)][\"best_in_edge\"]\n",
    "        #print (dd.layers[k+1])\n",
    "        decisions.append(decision)\n",
    "        k, state = node\n",
    "        \n",
    "        \n",
    "\n",
    "    return  dd.g.nodes[(dd.number_of_layers-1,dd.sink_state)][\"best_dist\"], list(reversed(decisions))\n"
   ]
  },
  {
   "cell_type": "code",
   "execution_count": null,
   "id": "2834dbab",
   "metadata": {
    "scrolled": true,
    "slideshow": {
     "slide_type": "-"
    }
   },
   "outputs": [],
   "source": [
    "get_best_path(dd)[1][:20] ## first 10 nodes"
   ]
  },
  {
   "cell_type": "markdown",
   "id": "d746f74a",
   "metadata": {
    "slideshow": {
     "slide_type": "fragment"
    }
   },
   "source": [
    "..getting the number of nodes"
   ]
  },
  {
   "cell_type": "code",
   "execution_count": null,
   "id": "a4b00a6c",
   "metadata": {
    "slideshow": {
     "slide_type": "-"
    }
   },
   "outputs": [],
   "source": [
    "def get_number_of_nodes(dd):\n",
    "    return dd.g.number_of_nodes()\n"
   ]
  },
  {
   "cell_type": "code",
   "execution_count": null,
   "id": "e3dec9ed",
   "metadata": {},
   "outputs": [],
   "source": [
    "get_number_of_nodes(dd)"
   ]
  },
  {
   "cell_type": "markdown",
   "id": "2e071b35",
   "metadata": {
    "slideshow": {
     "slide_type": "slide"
    }
   },
   "source": [
    "## Reducing an exact DD\n",
    "\n",
    "One of the key ideas from DDs is that very often, a DD can be compressed / reduced by merging nodes \n",
    "that \n",
    "- do not have identical (top-down) states\n",
    "- but are nonetheless **equivalent** in the sense that they have the same *completions*, that is, the same set of partial solutions until the end (the solution sets of their tail subproblems are identical)"
   ]
  },
  {
   "cell_type": "markdown",
   "id": "3df3f104",
   "metadata": {
    "slideshow": {
     "slide_type": "slide"
    }
   },
   "source": [
    "This type of equivalence can be identified by an upward-pass starting from the bottom layer $N$ to layer $0$\n",
    "\n",
    "- in each layer $k$, two nodes are equivalent (are in the same equivalence class) if \n",
    "  - they have the same set of feasible decisions \n",
    "  - these decisions have the same costs\n",
    "  - the corresponding arcs point to the same set of nodes in the subsequent layer $k+1$\n",
    "- for each equivalence class, merge all nodes in that class into a single node\n",
    "\n",
    "**Attention:** The following implementation assumes that the decision costs are state-independent. If the decision costs (the arc costs) are state-dependent, then we need to add a check for identical costs, too"
   ]
  },
  {
   "cell_type": "markdown",
   "id": "f7881430",
   "metadata": {
    "slideshow": {
     "slide_type": "slide"
    }
   },
   "source": [
    "## Implementing the DD reduction"
   ]
  },
  {
   "cell_type": "code",
   "execution_count": null,
   "id": "22c80665",
   "metadata": {},
   "outputs": [],
   "source": [
    "def reduce_exact_dd(dd):\n",
    "    \n",
    "    #proceed from the bottom (last layer) to the top\n",
    "    k = len(dd.layers)-1\n",
    "    while k > 0:\n",
    "        \n",
    "        # a dict with key: decisions and resulting nodes (forming an equivalence class)\n",
    "        #       and value: list of states falling into that class\n",
    "        eq_classes = {}\n",
    "    \n",
    "        #1. collect equivalence classes and states/nodes in each class\n",
    "        for state in dd.layers[k]:\n",
    "            \n",
    "            out_arc_info = []\n",
    "            \n",
    "            for u,v,decision,data in dd.g.out_edges((k,state),keys=True, data=True):\n",
    "                out_arc_info.append((decision,v,data[\"cost\"]))\n",
    "                \n",
    "            eq_class = tuple(sorted(out_arc_info))\n",
    "            \n",
    "            if eq_class not in eq_classes:\n",
    "                eq_classes[eq_class] = [state]                \n",
    "            else:\n",
    "                eq_classes[eq_class].append(state)\n",
    "        \n",
    "        # 2. merge all states in each class into a single node\n",
    "        for eq_class, states in eq_classes.items():            \n",
    "            while len(states) > 1:\n",
    "                state_remove = states.pop()\n",
    "                merge_nodes(dd, k, states[0], state_remove)\n",
    "                \n",
    "        k=k-1"
   ]
  },
  {
   "cell_type": "markdown",
   "id": "f2c3d8c6",
   "metadata": {
    "slideshow": {
     "slide_type": "slide"
    }
   },
   "source": [
    "## Merging two nodes"
   ]
  },
  {
   "cell_type": "code",
   "execution_count": null,
   "id": "6724d2b7",
   "metadata": {
    "slideshow": {
     "slide_type": "-"
    }
   },
   "outputs": [],
   "source": [
    "def merge_nodes(dd, layer_index, state_orig, state_remove):\n",
    "    \n",
    "    node_orig = (layer_index, state_orig)\n",
    "    node_remove = (layer_index, state_remove)\n",
    "    \n",
    "    layer = dd.layers[layer_index]\n",
    "\n",
    "    \n",
    "\n",
    "    # 1. Keep the best distance to from the source\n",
    "    if better(dd.g.nodes[node_remove][\"best_dist\"], dd.g.nodes[node_orig][\"best_dist\"], dd.direction):        \n",
    "        (u,v,d) = dd.g.nodes[node_remove][\"best_in_edge\"]\n",
    "        dd.g.nodes[node_orig][\"best_in_edge\"] = (u,node_orig,d)\n",
    "        dd.g.nodes[node_orig][\"best_dist\"] = dd.g.nodes[node_remove][\"best_dist\"]\n",
    "\n",
    "    \n",
    "    # update best stuff\n",
    "    \n",
    "    for u, v, decision,data in dd.g.out_edges(node_remove, keys=True, data=True):\n",
    "        if dd.g.nodes[v][\"best_in_edge\"] == (u,v,decision):\n",
    "            dd.g.nodes[v][\"best_in_edge\"] = (node_orig, decision, v)\n",
    "            \n",
    "\n",
    "    # 3. redirect the in-arcs from the removed node to the node to be kept\n",
    "    \n",
    "    arcs_to_add = []\n",
    "    for u,v,decision,data in dd.g.in_edges(node_remove, keys = True, data=True):\n",
    "        arcs_to_add.append((u,node_orig, decision, data))\n",
    "                           \n",
    "    dd.g.remove_node(node_remove)\n",
    "    layer.remove(state_remove)\n",
    "    \n",
    "    dd.g.add_edges_from(arcs_to_add)\n"
   ]
  },
  {
   "cell_type": "markdown",
   "id": "8a1bd112",
   "metadata": {
    "slideshow": {
     "slide_type": "slide"
    }
   },
   "source": [
    "## Trying it  out"
   ]
  },
  {
   "cell_type": "code",
   "execution_count": null,
   "id": "f3c329fc",
   "metadata": {
    "slideshow": {
     "slide_type": "-"
    }
   },
   "outputs": [],
   "source": [
    "reduce_exact_dd(dd)\n",
    "\n",
    "print (\"reduced nodes\", get_number_of_nodes(dd))"
   ]
  },
  {
   "cell_type": "markdown",
   "id": "1e3dce6c",
   "metadata": {},
   "source": [
    "..some sanity checks"
   ]
  },
  {
   "cell_type": "code",
   "execution_count": null,
   "id": "a4cd8fca",
   "metadata": {},
   "outputs": [],
   "source": [
    "get_best_objective (dd)"
   ]
  },
  {
   "cell_type": "code",
   "execution_count": null,
   "id": "4cafdfa7",
   "metadata": {},
   "outputs": [],
   "source": [
    "get_best_path(dd)[1][:10]"
   ]
  },
  {
   "cell_type": "markdown",
   "id": "ce5d55ad",
   "metadata": {
    "slideshow": {
     "slide_type": "slide"
    }
   },
   "source": [
    "## Restricted Decision Diagrams\n",
    "\n",
    "- building an exact decision diagram is often not practical since it may have an exponential size\n",
    "- also, the reduction requires building the exact DD beforehand\n",
    "- the idea of restricted DDs is to limit the size of the DD (more precisely, the width `maxWidth` of its layers) by removing states from each layer until the maximum width is respected\n",
    "- of course, this introduces an approximation, that is, the solution is no longer guaranteed to be optimal\n"
   ]
  },
  {
   "cell_type": "markdown",
   "id": "ecdffd5d",
   "metadata": {
    "slideshow": {
     "slide_type": "slide"
    }
   },
   "source": [
    "## Building a restricted DD top-down in Python"
   ]
  },
  {
   "cell_type": "code",
   "execution_count": null,
   "id": "857e47ef",
   "metadata": {},
   "outputs": [],
   "source": [
    "def build_restricted_dd(dp, instance, start_layer, start_state, sink_state, max_width,  sort_key_function=None):\n",
    "    \n",
    "    dd = DecisionDiagram(instance.N+1, start_layer, start_state, sink_state, dp.direction)  \n",
    "    \n",
    "    if sort_key_function is None:\n",
    "        sort_key_function = get_sort_key_function_best_distance(dp)\n",
    "    \n",
    "    state = start_state\n",
    "    total_cost = 0    \n",
    "    \n",
    "    for k in range(start_layer,instance.N):\n",
    "\n",
    "        for state in dd.layers[k]:\n",
    "            decisions = dp.feasible_decisions(instance, k, state)\n",
    "            \n",
    "            for decision in decisions:\n",
    "                if k < instance.N -1:\n",
    "                    next_state = dp.transition_function(instance,k,state, decision)\n",
    "                else:\n",
    "                    next_state = -1\n",
    "                \n",
    "                add_transition_dd(dd, k, state, decision, next_state, dp.cost_function(instance, k, state, decision)) \n",
    "                \n",
    "         # remove_nodes until max_width is reached\n",
    "        remove_until_max_width(dd, k+1,max_width, sort_key_function)       \n",
    "\n",
    "    return dd"
   ]
  },
  {
   "cell_type": "code",
   "execution_count": null,
   "id": "fbc6e283",
   "metadata": {},
   "outputs": [],
   "source": [
    "\n",
    "\n",
    "\n",
    "[((3,state), dd.g.nodes[(3,state)]) for state in dd.layers[3]]\n"
   ]
  },
  {
   "cell_type": "markdown",
   "id": "197fa69f",
   "metadata": {
    "slideshow": {
     "slide_type": "slide"
    }
   },
   "source": [
    "## Removing all nodes in a layer until maximum width"
   ]
  },
  {
   "cell_type": "code",
   "execution_count": null,
   "id": "30930b1c",
   "metadata": {
    "slideshow": {
     "slide_type": "-"
    }
   },
   "outputs": [],
   "source": [
    "def remove_until_max_width(dd, layer_index, max_width, sort_key_function):\n",
    "\n",
    "    if len(dd.layers[layer_index]) <= max_width:\n",
    "        if dd.last_exact_layer == layer_index -1: \n",
    "            dd.last_exact_layer = layer_index\n",
    "        return\n",
    "\n",
    "    states_data = [(state, dd.g.nodes[(layer_index, state)]) for state in dd.layers[layer_index]]\n",
    "    sorted_states = sorted(states_data, key=sort_key_function)\n",
    "    \n",
    "  \n",
    "    for state, data in sorted_states[max_width:]:\n",
    "        dd.layers[layer_index].remove(state) \n",
    "        dd.g.remove_node((layer_index,state))"
   ]
  },
  {
   "cell_type": "markdown",
   "id": "7cbd880a",
   "metadata": {
    "slideshow": {
     "slide_type": "slide"
    }
   },
   "source": [
    "## Some standard sort function"
   ]
  },
  {
   "cell_type": "code",
   "execution_count": null,
   "id": "7ad1bb1a",
   "metadata": {},
   "outputs": [],
   "source": [
    "def sort_key_max_distance(state_data):\n",
    "    return state_data[1][\"best_dist\"] * -1"
   ]
  },
  {
   "cell_type": "code",
   "execution_count": null,
   "id": "fb94fb9a",
   "metadata": {},
   "outputs": [],
   "source": [
    "def sort_key_min_distance(state_data):\n",
    "    return state_data[1][\"best_dist\"] "
   ]
  },
  {
   "cell_type": "code",
   "execution_count": null,
   "id": "146555e2",
   "metadata": {},
   "outputs": [],
   "source": [
    "def get_sort_key_function_best_distance(dp):\n",
    "    \n",
    "    if dp.direction == 'max':\n",
    "        return sort_key_max_distance\n",
    "    else:\n",
    "        return sort_key_min_distance"
   ]
  },
  {
   "cell_type": "code",
   "execution_count": null,
   "id": "8f191870",
   "metadata": {},
   "outputs": [],
   "source": [
    "dd = build_restricted_dd(dp_kp, kp_instance, 0, 0,-1, 30)\n"
   ]
  },
  {
   "cell_type": "code",
   "execution_count": null,
   "id": "cf2fec0d",
   "metadata": {},
   "outputs": [],
   "source": [
    "get_best_objective (dd)"
   ]
  },
  {
   "cell_type": "markdown",
   "id": "75daca06",
   "metadata": {
    "slideshow": {
     "slide_type": "slide"
    }
   },
   "source": [
    "## Task: Other sort functions\n",
    "\n",
    "**Try out other sort functions!**\n",
    "- using min distance instead of max distance for the KP#\n",
    "- write your own function!"
   ]
  },
  {
   "cell_type": "code",
   "execution_count": null,
   "id": "4c4148d5",
   "metadata": {},
   "outputs": [],
   "source": []
  },
  {
   "cell_type": "markdown",
   "id": "8b5ed51a",
   "metadata": {
    "slideshow": {
     "slide_type": "slide"
    }
   },
   "source": [
    "## Relaxed Decision Diagrams"
   ]
  },
  {
   "cell_type": "markdown",
   "id": "028f6ec8",
   "metadata": {
    "slideshow": {
     "slide_type": "-"
    }
   },
   "source": [
    "- restricted DDs have a **limited size**, represent a **subset** of all feasible solutions of a DP, and thus give us an approximate feasible solution"
   ]
  },
  {
   "cell_type": "markdown",
   "id": "10df39a7",
   "metadata": {
    "slideshow": {
     "slide_type": "fragment"
    }
   },
   "source": [
    "- relaxed DDs have a **limited size**, represent a **superset** of all feasible solutions of a DP, and thus give us an upper (lower) bound in case of a maximization (minimization) problem\n",
    "    - how can that work?"
   ]
  },
  {
   "cell_type": "markdown",
   "id": "30194bbd",
   "metadata": {
    "slideshow": {
     "slide_type": "fragment"
    }
   },
   "source": [
    "    \n",
    "**Key idea:** By merging nodes that are not equivalent!\n",
    "- to obtain a proper relaxation (to make sure that we have a superset of all feasible solutions, we apply a so-called **merge operation** $\\oplus$ that makes sure that \n",
    "    - the solutions (paths to the terminal) starting from the merged state $s' = s_1 \\oplus s_2$  form a superset of the union of the solutions (paths to the terminal) starting from $s_1$ and $s_2$\n",
    "    - and that the best objective value starting from $s_1 \\oplus s_2$ is at least as good as the \n",
    "- in simplified terms, $\\oplus$ is chosen in a way that $s_1 \\oplus s_2$ is less restrictive that both $s_1$ and $s_2$"
   ]
  },
  {
   "cell_type": "markdown",
   "id": "ec90d240",
   "metadata": {
    "slideshow": {
     "slide_type": "slide"
    }
   },
   "source": [
    "## Top-down compilation of relaxed DDs: Python implementation"
   ]
  },
  {
   "cell_type": "code",
   "execution_count": null,
   "id": "6d1ec130",
   "metadata": {},
   "outputs": [],
   "source": [
    "def build_relaxed_dd(dp, merge_function, instance, start_layer, start_state, sink_state, max_width, sort_key_function=None):\n",
    "    \n",
    "    dd = DecisionDiagram(instance.N+1, start_layer, start_state, sink_state)\n",
    "    \n",
    "    if sort_key_function is None:\n",
    "        sort_key_function = get_sort_key_function_best_distance(dp)\n",
    "    \n",
    "    state = start_state\n",
    "    total_cost = 0\n",
    "    \n",
    "    \n",
    "    for k in range(start_layer,instance.N):\n",
    "       \n",
    "        for state in dd.layers[k]:\n",
    "            decisions = dp.feasible_decisions(instance, k, state)\n",
    "            \n",
    "            for decision in decisions:\n",
    "                if k < instance.N -1:\n",
    "                    next_state = dp.transition_function(instance,k,state, decision)\n",
    "                else:\n",
    "                    next_state = -1\n",
    "                \n",
    "                add_transition_dd(dd, k, state, decision, next_state, dp.cost_function(instance, k, state, decision))\n",
    "        \n",
    "\n",
    "        merge_until_max_width(dd, merge_function, k+1, max_width, sort_key_function)\n",
    "        \n",
    "\n",
    "    return dd\n",
    "\n"
   ]
  },
  {
   "cell_type": "markdown",
   "id": "c14c35a5",
   "metadata": {
    "slideshow": {
     "slide_type": "slide"
    }
   },
   "source": [
    "## Merge until the maximum is reached"
   ]
  },
  {
   "cell_type": "code",
   "execution_count": null,
   "id": "30155389",
   "metadata": {},
   "outputs": [],
   "source": [
    " def merge_until_max_width(dd, merge_function, layer_index, max_width, sort_key_function):\n",
    "        \n",
    "        layer = dd.layers[layer_index]\n",
    "        prev_layer = dd.layers[layer_index-1]\n",
    "        \n",
    "        if len(layer) <= max_width:\n",
    "            if dd.last_exact_layer == layer_index -1: \n",
    "                dd.last_exact_layer = layer_index\n",
    "            return\n",
    "        \n",
    "        # 1. sort the nodes, return  a list of tuples\n",
    "    \n",
    "        \n",
    "        \n",
    "        states_data = [(state, dd.g.nodes[(layer_index, state)]) for state in dd.layers[layer_index]]\n",
    "        sorted_states = sorted(states_data, key=sort_key_function)\n",
    "    \n",
    "  \n",
    "        \n",
    "        # 2. update the set\n",
    "        dd.layers[layer_index] = set(state for state, data in sorted_states[0:max_width-1])\n",
    "        \n",
    "        \n",
    "        # 3. merge the remaining states into a single (relaxed) node\n",
    "        \n",
    "        # begin with the first state\n",
    "        state, data = sorted_states[max_width-1]\n",
    "        in_edges = [e for e in dd.g.in_edges((layer_index, state), keys=True)] \n",
    "        best_dist = data[\"best_dist\"]\n",
    "        best_pred_dec = (data[\"best_in_edge\"][0], data[\"best_in_edge\"][2])\n",
    "                                     \n",
    "        \n",
    "        # 3a: compute the merged and collect in-edges\n",
    "        for state_next, data_next in sorted_states[max_width:]:    \n",
    "            \n",
    "            state = merge_function(state, state_next) # compute the merged state\n",
    "            in_edges += [e for e in dd.g.in_edges((layer_index, state_next), keys=True)]\n",
    "            \n",
    "            if better(data_next[\"best_dist\"], best_dist, dd.direction):\n",
    "                best_dist = data_next[\"best_dist\"]\n",
    "                best_pred_dec = (data_next[\"best_in_edge\"][0], data_next[\"best_in_edge\"][2])\n",
    "        \n",
    "\n",
    "        # remove the old nodes\n",
    "        for state_remove, data in sorted_states[max_width -1:]:\n",
    "            dd.g.remove_node((layer_index, state_remove))\n",
    "            \n",
    "            \n",
    "        # add the new node\n",
    "        dd.layers[layer_index].add(state)\n",
    "        best_in_edge = (best_pred_dec[0], state, best_pred_dec[1])\n",
    "        dd.g.add_node((layer_index, state), best_dist=best_dist, best_in_edge = best_in_edge)\n",
    "        \n",
    "        for u, v, decision in in_edges:\n",
    "            dd.g.add_edge(u,state, decision)\n",
    "                                     \n",
    "                                    "
   ]
  },
  {
   "cell_type": "markdown",
   "id": "c8146da5",
   "metadata": {
    "slideshow": {
     "slide_type": "slide"
    }
   },
   "source": [
    "## Trying the whole procedure"
   ]
  },
  {
   "cell_type": "code",
   "execution_count": null,
   "id": "f26d3fb8",
   "metadata": {},
   "outputs": [],
   "source": [
    "dd = build_relaxed_dd(dp_kp, min, kp_instance, 0, 0, -1, 200)\n",
    "\n",
    "\n",
    "print (\"dist\", get_best_objective(dd), \"nodes\", get_number_of_nodes(dd))\n",
    "\n"
   ]
  },
  {
   "cell_type": "markdown",
   "id": "22ed61b7",
   "metadata": {
    "slideshow": {
     "slide_type": "slide"
    }
   },
   "source": [
    "## Task: Other sort functions\n",
    "\n",
    "**Try out other sort functions!**\n",
    "- using min distance instead of max distance for the KP#\n",
    "- write your own function!"
   ]
  },
  {
   "cell_type": "code",
   "execution_count": null,
   "id": "c6ab016c",
   "metadata": {},
   "outputs": [],
   "source": []
  },
  {
   "cell_type": "markdown",
   "id": "5b1c7a59",
   "metadata": {
    "slideshow": {
     "slide_type": "slide"
    }
   },
   "source": [
    "## DD-based Branch-and-Bound"
   ]
  },
  {
   "cell_type": "markdown",
   "id": "323f2f0c",
   "metadata": {
    "slideshow": {
     "slide_type": "-"
    }
   },
   "source": [
    "- for many problems, building the full exact DD is not feasible within an acceptable amount of time\n",
    "- limited-size restricted and relaxed DDs (only) provide bounds\n",
    "- however, they can be used in a DD-specific branch-and-bound scheme!\n",
    "- that scheme was used to successfully solve a number of combinatorial optimization problems, in some cases achieving state-of-the-art performance\n",
    "- the scheme is highly parallelizable"
   ]
  },
  {
   "cell_type": "markdown",
   "id": "f4349aca",
   "metadata": {
    "slideshow": {
     "slide_type": "slide"
    }
   },
   "source": [
    "## DD-based Branch-and-Bound: Key ideas"
   ]
  },
  {
   "cell_type": "markdown",
   "id": "d084427c",
   "metadata": {
    "slideshow": {
     "slide_type": "fragment"
    }
   },
   "source": [
    "**Key idea I: Branching on nodes in exact cutsets**\n",
    "\n",
    "- in every relaxed (and restricted) DD, there are some nodes that are exact\n",
    "- then, in a relaxed DD, we can identify so-called **exact cutsets:**\n",
    "  - a **cutset** is a subset of nodes such that all source-terminal paths pass through at least one node in that subset\n",
    "  - a cutset is called **exact** if all nodes represent exact states (not \"relaxed\" by the merge operation)\n",
    "  \n",
    "- now, instead of of increasing the width in layers after the exact cutset, the branch-and-bound starts building a \"new\" relaxed DD for the subproblem starting from each node in the cutset\n",
    "- the nodes from the cutset are considered as \"open nodes\" which are processed one after the other\n",
    "- when creating a \"new\" relaxed DD, we once again obtain an exact cutset that is then added to the set of open nodes\n",
    "\n",
    "..one of the simplest ways to obtain an exact cutset is to use the \"last exact layer\", that is, the last layer in which no nodes needed to be removed / merged"
   ]
  },
  {
   "cell_type": "markdown",
   "id": "17fa2e2a",
   "metadata": {
    "slideshow": {
     "slide_type": "fragment"
    }
   },
   "source": [
    "**Key idea II: Bounding** \n",
    "- before building the relaxed DD for the current node, we build a restricted DD for the subproblem to (hopefully) obtain a new best feasible solution\n",
    "- if the relaxed DD starting from the subproblem yields a solution that is worse than that \"primal\" solution, its exact cutset is not added to the set of open nodes"
   ]
  },
  {
   "cell_type": "markdown",
   "id": "86ce4119",
   "metadata": {
    "slideshow": {
     "slide_type": "slide"
    }
   },
   "source": [
    "## DD-based Branch-and-Bound: Algorithm"
   ]
  },
  {
   "cell_type": "code",
   "execution_count": null,
   "id": "66a161f0",
   "metadata": {},
   "outputs": [],
   "source": [
    "from queue import PriorityQueue\n",
    "\n",
    "\n",
    "def branch_and_bound_dd(dp, merge_function, instance, start_layer, start_state, sink_state, max_width):    \n",
    "    \n",
    "    best_feasible_obj = 0    \n",
    "      \n",
    "    factor_p_queue = 1\n",
    "    if dp.direction == 'min':\n",
    "        factor_p_queue = -1\n",
    "    \n",
    "    # initialise the set of open states (we use a priority queue here)\n",
    "    # we store obj-function * factor as key for determining the priority, state and layer in the queue\n",
    "    open_states = PriorityQueue()\n",
    "    open_states.put((0, start_state, 0))\n",
    "    \n",
    "    number_of_open_states_considered = 1\n",
    "    \n",
    "    while open_states.qsize() > 0:\n",
    "        number_of_open_states_considered += 1\n",
    "        dist_to_state, state, layer = open_states.get() # get node from pqueue (and remove from queue)        \n",
    "        dist_to_state = dist_to_state * factor_p_queue # \"re-transform\" if needed\n",
    "\n",
    "        #solve restriction for the subproblem\n",
    "        dd_restricted = build_restricted_dd(dp, instance, layer, state, sink_state, max_width)        \n",
    "        restriction_obj = get_best_objective(dd_restricted)\n",
    "\n",
    "        # see if we improved the best-known feasible solution\n",
    "        if dist_to_state + restriction_obj > best_feasible_obj:            \n",
    "            best_feasible_obj = dist_to_state + restriction_obj\n",
    "           # print (\"new best incumbent\", best_feasible_obj )\n",
    "            \n",
    "        # if the subproblem is exact, no need to continue\n",
    "        if dd_restricted.last_exact_layer == instance.N:\n",
    "            continue\n",
    "        \n",
    "        #solve relaxation for the subproblem       \n",
    "        dd_relaxed = build_relaxed_dd(dp, merge_function, instance, layer, state, sink_state, max_width)        \n",
    "        relaxation_obj = get_best_objective(dd_relaxed) \n",
    "        \n",
    "        # bounding: if cannot improve the best feasible solution, continue\n",
    "        if dist_to_state + relaxation_obj <= best_feasible_obj:\n",
    "            continue\n",
    "    \n",
    "        ## get last_exact_layer cutset and add to open nodes\n",
    "        cutset = dd_relaxed.layers[dd_relaxed.last_exact_layer]    \n",
    "        for state in  cutset:\n",
    "            best_dist = dd_relaxed.g.nodes[(dd_relaxed.last_exact_layer, state)][\"best_dist\"]\n",
    "            open_states.put((factor_p_queue * (dist_to_state + best_dist), state, dd_relaxed.last_exact_layer))\n",
    "\n",
    "    print (\"open states considered\", number_of_open_states_considered)\n",
    "    return best_feasible_obj\n",
    "        \n",
    "        "
   ]
  },
  {
   "cell_type": "markdown",
   "id": "062851d7",
   "metadata": {
    "slideshow": {
     "slide_type": "slide"
    }
   },
   "source": [
    "## Trying it out"
   ]
  },
  {
   "cell_type": "code",
   "execution_count": null,
   "id": "f8723285",
   "metadata": {
    "slideshow": {
     "slide_type": "-"
    }
   },
   "outputs": [],
   "source": [
    "\n",
    "\n",
    "#filename = \"./../problems/knapsack/instances/knapPI_1_100_1000_1\" # optimal value: 276457 \n",
    "#values, weights, capacity  = read_knapsack_instance(filename)\n",
    "\n",
    "kp_instance = KPInstance(values, weights,capacity,len(values))\n",
    "filename = \"./../problems/knapsack/instances/knapPI_1_100_1000_1\"\n",
    "kp_instance = read_kp_instance(filename)\n",
    "\n",
    "N = 20\n",
    "kp_instance = KPInstance(kp_instance.values[:N], kp_instance.weights[:N],kp_instance.capacity,  N)"
   ]
  },
  {
   "cell_type": "code",
   "execution_count": null,
   "id": "9d9e949e",
   "metadata": {},
   "outputs": [],
   "source": [
    "%%time\n",
    "branch_and_bound_dd(dp_kp, min, kp_instance, 0, 0, -1, 100)"
   ]
  },
  {
   "cell_type": "code",
   "execution_count": null,
   "id": "85f64c43",
   "metadata": {},
   "outputs": [],
   "source": [
    "%%time\n",
    "dd = build_exact_dd(dp_kp, kp_instance, 0, 0,-1)\n",
    "print(\"Size of exact DD:\", get_number_of_nodes(dd))\n",
    "get_best_objective(dd)"
   ]
  },
  {
   "cell_type": "code",
   "execution_count": null,
   "id": "6f4e7828",
   "metadata": {},
   "outputs": [],
   "source": []
  },
  {
   "cell_type": "markdown",
   "id": "4bd2e175",
   "metadata": {
    "slideshow": {
     "slide_type": "slide"
    }
   },
   "source": [
    "# Using DDs as Flow Components of MIPs\n",
    "\n",
    "\n"
   ]
  },
  {
   "cell_type": "markdown",
   "id": "891a1161",
   "metadata": {
    "slideshow": {
     "slide_type": "slide"
    }
   },
   "source": [
    "## Observation:  DDs and optimal paths"
   ]
  },
  {
   "cell_type": "code",
   "execution_count": null,
   "id": "cbaac238",
   "metadata": {},
   "outputs": [],
   "source": []
  },
  {
   "cell_type": "markdown",
   "id": "e7708ef8",
   "metadata": {},
   "source": [
    "This means that we do not need to update the shortest path information, making our altorithms and data structures for DDs a bit simpler.\n",
    "\n"
   ]
  },
  {
   "cell_type": "markdown",
   "id": "c99a94b2",
   "metadata": {},
   "source": [
    "### Optimal Paths using a MIP solver\n",
    "\n",
    "- as you may know, instead of calling a shortest path algorithm we may just formulate the shortest path problem as a min-cost-flow problem that can be solved by a MIP\n",
    "\n",
    "- in that case, the "
   ]
  },
  {
   "cell_type": "code",
   "execution_count": null,
   "id": "f351b44f",
   "metadata": {},
   "outputs": [],
   "source": [
    "def build_network_flow_component(m, dd, flow_size = 1):\n",
    "    \n",
    "    \n",
    "     \n",
    "    \n",
    "    edge_to_flow_var = {}\n",
    "    \n",
    "\n",
    "    for e, data in dd.g.edges.items():\n",
    "            edge_to_flow_var[e] = m.add_var(var_type=INTEGER, obj = data[\"cost\"] )\n",
    "    \n",
    "    ## add sink-source-arc \n",
    "    if dd.g.out_degree ( (dd.number_of_layers-1, dd.sink_state) ) == 0:\n",
    "        \n",
    "        \n",
    "        dd.g.add_edge( (dd.number_of_layers-1, dd.sink_state),  (0, dd.source_state), key=-1, cost=0)      \n",
    "    \n",
    "\n",
    "\n",
    "        edge_to_flow_var[((dd.number_of_layers-1, dd.sink_state),  (0, dd.source_state), -1)] = m.add_var(var_type=INTEGER, lb=flow_size, ub=flow_size)\n",
    "    \n",
    "            \n",
    "    for v in dd.g.nodes():\n",
    "\n",
    "        m += xsum(edge_to_flow_var[e] for e in dd.g.in_edges(v,keys=True)) == xsum(edge_to_flow_var[e] for e in dd.g.out_edges(v, keys=True) )\n",
    "\n",
    "    return edge_to_flow_var\n",
    "            \n",
    "        \n",
    "    \n",
    "    "
   ]
  },
  {
   "cell_type": "code",
   "execution_count": null,
   "id": "dc905548",
   "metadata": {},
   "outputs": [],
   "source": [
    "kp_instance = KPInstance(values, weights,capacity,len(values))\n",
    "filename = \"./../problems/knapsack/instances/knapPI_1_100_1000_1\"\n",
    "kp_instance = read_kp_instance(filename)"
   ]
  },
  {
   "cell_type": "code",
   "execution_count": null,
   "id": "d5a250d7",
   "metadata": {},
   "outputs": [],
   "source": [
    "from mip import Model, xsum, maximize, BINARY, MAXIMIZE, INTEGER\n",
    "\n",
    "\n",
    "m = Model(\"knapsack_dd\", sense = MAXIMIZE)\n",
    "\n",
    "edge_to_flow_var = build_network_flow_component(m, dd)\n",
    "\n",
    "m.optimize()\n",
    "\n",
    "\n"
   ]
  },
  {
   "cell_type": "code",
   "execution_count": null,
   "id": "0e864807",
   "metadata": {},
   "outputs": [],
   "source": [
    "print(m.objective_value)"
   ]
  },
  {
   "cell_type": "code",
   "execution_count": null,
   "id": "281b2766",
   "metadata": {},
   "outputs": [],
   "source": []
  },
  {
   "cell_type": "code",
   "execution_count": null,
   "id": "f1c27967",
   "metadata": {},
   "outputs": [],
   "source": [
    "def get_solution_path(edge_to_flow_var, dd):\n",
    "    \n",
    "    decisions = []\n",
    "    \n",
    "    \n",
    "    node = (0, dd.source_state)\n",
    "    \n",
    "    while node[1] != dd.sink_state:\n",
    "        for node, target_node, decision in dd.g.out_edges(node, keys=True):\n",
    "            if edge_to_flow_var[e].x > 0.1:\n",
    "                decisions.append(decision)\n",
    "                \n",
    "                node = target_node\n",
    "                break\n",
    "                \n",
    "    return decisions     \n",
    "    \n",
    " \n"
   ]
  },
  {
   "cell_type": "code",
   "execution_count": null,
   "id": "f200574a",
   "metadata": {},
   "outputs": [],
   "source": [
    "get_solut"
   ]
  },
  {
   "cell_type": "markdown",
   "id": "5343c013",
   "metadata": {
    "slideshow": {
     "slide_type": "slide"
    }
   },
   "source": [
    "## Of course, we can benefit from the DD reduction!"
   ]
  },
  {
   "cell_type": "code",
   "execution_count": null,
   "id": "9cbf6a42",
   "metadata": {},
   "outputs": [],
   "source": []
  },
  {
   "cell_type": "markdown",
   "id": "90bedb3d",
   "metadata": {},
   "source": [
    "## Is this any better than a standard MIP model?\n",
    "\n",
    "The standard MIP formulation for the 0/1 KP looks as follows:\n",
    "\n"
   ]
  },
  {
   "cell_type": "code",
   "execution_count": null,
   "id": "8d9985b0",
   "metadata": {},
   "outputs": [],
   "source": [
    "from mip import Model, xsum, maximize, BINARY\n",
    "\n",
    "\n",
    "m = Model(\"knapsack\")\n",
    "\n",
    "x = [m.add_var(var_type=BINARY) for i in range(kp_instance.N)]\n",
    "\n",
    "m.objective = maximize(xsum(kp_instance.values[i] * x[i] for i in range(kp_instance.N)))\n",
    "\n",
    "m += xsum(kp_instance.weights[i] * x[i] for i in range(kp_instance.N)) <= kp_instance.capacity\n",
    "\n",
    "m.optimize()\n",
    "\n",
    "selected = [i for i in range(kp_instance.N) if x[i].x >= 0.99]\n",
    "print(\"selected items: {}\".format(selected))\n",
    "print(m.objective_value)"
   ]
  },
  {
   "cell_type": "markdown",
   "id": "0cc0d2e9",
   "metadata": {},
   "source": [
    "## The Multiple Knapsack Problem\n",
    "\n",
    "- the multiple knapsack problem is an extension\n",
    "- in general, the knapsacks can have different capacities\n",
    "- here, for the sake of simplicity, we assume that all knapsacks have the same capacity\n",
    "- a mathematical model would look like this:"
   ]
  },
  {
   "cell_type": "code",
   "execution_count": null,
   "id": "fd12a1d4",
   "metadata": {},
   "outputs": [],
   "source": []
  },
  {
   "cell_type": "code",
   "execution_count": 185,
   "id": "d20bff52",
   "metadata": {},
   "outputs": [],
   "source": [
    "class  MKPInstance(NamedTuple):\n",
    "    values:np.array\n",
    "    weights:np.array\n",
    "    capacity:int\n",
    "    number_of_knapsacks:int\n",
    "    N:int\n",
    "        \n",
    "def create_mkp_instance_from_kp(kp_instance, number_of_knapsacks, weight_factor = 0.6):\n",
    "    \n",
    "    cap = int(0.6*np.sum(kp_instance.weights) / number_of_knapsacks)\n",
    "    \n",
    "        \n",
    "    return MKPInstance(kp_instance.values, kp_instance.weights, cap, number_of_knapsacks, kp_instance.N)\n",
    "\n"
   ]
  },
  {
   "cell_type": "markdown",
   "id": "6593d163",
   "metadata": {},
   "source": [
    "## The Multiple Knapsack Problem: Solving the standard MIP formulation\n",
    "\n"
   ]
  },
  {
   "cell_type": "code",
   "execution_count": 186,
   "id": "f5acdb2b",
   "metadata": {},
   "outputs": [
    {
     "ename": "NameError",
     "evalue": "name 'Model' is not defined",
     "output_type": "error",
     "traceback": [
      "\u001b[1;31m---------------------------------------------------------------------------\u001b[0m",
      "\u001b[1;31mNameError\u001b[0m                                 Traceback (most recent call last)",
      "Input \u001b[1;32mIn [186]\u001b[0m, in \u001b[0;36m<cell line: 1>\u001b[1;34m()\u001b[0m\n\u001b[1;32m----> 1\u001b[0m m \u001b[38;5;241m=\u001b[39m \u001b[43mModel\u001b[49m(\u001b[38;5;124m\"\u001b[39m\u001b[38;5;124mmultiple_knapsack\u001b[39m\u001b[38;5;124m\"\u001b[39m)\n\u001b[0;32m      4\u001b[0m x \u001b[38;5;241m=\u001b[39m [[m\u001b[38;5;241m.\u001b[39madd_var(var_type\u001b[38;5;241m=\u001b[39mBINARY) \u001b[38;5;28;01mfor\u001b[39;00m k \u001b[38;5;129;01min\u001b[39;00m \u001b[38;5;28mrange\u001b[39m(mkp_instance\u001b[38;5;241m.\u001b[39mnumber_of_knapsacks)] \u001b[38;5;28;01mfor\u001b[39;00m i \u001b[38;5;129;01min\u001b[39;00m \u001b[38;5;28mrange\u001b[39m(mkp_instance\u001b[38;5;241m.\u001b[39mN)]\n\u001b[0;32m      6\u001b[0m m\u001b[38;5;241m.\u001b[39mobjective \u001b[38;5;241m=\u001b[39m maximize(xsum(mkp_instance\u001b[38;5;241m.\u001b[39mvalues[i] \u001b[38;5;241m*\u001b[39m x[i][k] \u001b[38;5;28;01mfor\u001b[39;00m i \u001b[38;5;129;01min\u001b[39;00m \u001b[38;5;28mrange\u001b[39m(mkp_instance\u001b[38;5;241m.\u001b[39mN) \u001b[38;5;28;01mfor\u001b[39;00m k \u001b[38;5;129;01min\u001b[39;00m \u001b[38;5;28mrange\u001b[39m(mkp_instance\u001b[38;5;241m.\u001b[39mnumber_of_knapsacks) ))\n",
      "\u001b[1;31mNameError\u001b[0m: name 'Model' is not defined"
     ]
    }
   ],
   "source": [
    "m = Model(\"multiple_knapsack\")\n",
    "\n",
    "\n",
    "x = [[m.add_var(var_type=BINARY) for k in range(mkp_instance.number_of_knapsacks)] for i in range(mkp_instance.N)]\n",
    "\n",
    "m.objective = maximize(xsum(mkp_instance.values[i] * x[i][k] for i in range(mkp_instance.N) for k in range(mkp_instance.number_of_knapsacks) ))\n",
    "\n",
    "for k in range(mkp_instance.number_of_knapsacks):\n",
    "    \n",
    "    m += xsum(mkp_instance.weights[i] * x[i][k] for i in range(mkp_instance.N)) <= cap\n",
    "    \n",
    "for i in range(mkp_instance.N):\n",
    "    m += xsum(x[i][k] for k in range(mkp_instance.number_of_knapsacks)) <= 1"
   ]
  },
  {
   "cell_type": "code",
   "execution_count": null,
   "id": "91f920b7",
   "metadata": {},
   "outputs": [],
   "source": []
  },
  {
   "cell_type": "markdown",
   "id": "f432397e",
   "metadata": {},
   "source": [
    "## A DP Model for the MKP?\n",
    "\n",
    "How can we formulate\n",
    "\n"
   ]
  },
  {
   "cell_type": "markdown",
   "id": "00205dbb",
   "metadata": {},
   "source": [
    "## Key idea: Multiple flow units through a single-knapsack DD\n",
    "\n",
    "\n",
    "**Observe:**\n",
    "- in the MKP that we consider here (identical capacities), the set of possible solutions for each knapsack is identical\n",
    "- each item can only be assigned to a **single knapsack**\n",
    "\n",
    "Now let us dicuss a **key idea**: multiple flow units\n",
    "\n",
    "\n"
   ]
  },
  {
   "cell_type": "code",
   "execution_count": 188,
   "id": "b5045b8f",
   "metadata": {},
   "outputs": [
    {
     "data": {
      "text/plain": [
       "{1: 1}"
      ]
     },
     "execution_count": 188,
     "metadata": {},
     "output_type": "execute_result"
    }
   ],
   "source": [
    "tst = {1:2}\n",
    "\n",
    "tst[1]-=1\n",
    "\n",
    "tst"
   ]
  },
  {
   "cell_type": "code",
   "execution_count": 189,
   "id": "a07768f4",
   "metadata": {},
   "outputs": [],
   "source": [
    "def decompose_flow_to_solution_paths(edge_to_flow_var, dd):\n",
    "    \n",
    "    paths = []\n",
    "    \n",
    "    ## total flow\n",
    "    \n",
    "    edge_to_remaining_flow = {}\n",
    "    \n",
    "    for e, flow_var in edge_to_flow_var:\n",
    "        edge_to_remaining_flow[e]  = round(flow_var.x)\n",
    "        \n",
    "    \n",
    "    circ_edge = ((0,dd.source_state), (dd.number_of_layers - 1, dd.sink_state), -1)\n",
    "    \n",
    "    \n",
    "    while edge_to_remaining_flow[circ_edge] > 0:\n",
    "        \n",
    "        edge_to_remaining_flow[circ_edge] -= 1\n",
    "\n",
    "        decisions = []\n",
    "    \n",
    "    \n",
    "\n",
    "        node = (0, dd.source_state)\n",
    "\n",
    "        while node[1] != dd.sink_state:\n",
    "            for node, target_node, decision in dd.g.out_edges(node, keys=True):\n",
    "                if edge_to_remaining_flow[e]  > 0:\n",
    "                    decisions.append(decision)\n",
    "                    edge_to_remaining_flow[e] -= 1            \n",
    "\n",
    "\n",
    "                    node = target_node\n",
    "                    break\n",
    "                    \n",
    "        paths.append(decisions)\n",
    "                \n",
    "    return paths\n",
    "    \n",
    "    \n"
   ]
  },
  {
   "cell_type": "code",
   "execution_count": null,
   "id": "d9627125",
   "metadata": {},
   "outputs": [],
   "source": []
  },
  {
   "cell_type": "code",
   "execution_count": null,
   "id": "4b77e858",
   "metadata": {},
   "outputs": [],
   "source": []
  }
 ],
 "metadata": {
  "kernelspec": {
   "display_name": "Python [conda env:shift_scheduling]",
   "language": "python",
   "name": "conda-env-shift_scheduling-py"
  },
  "language_info": {
   "codemirror_mode": {
    "name": "ipython",
    "version": 3
   },
   "file_extension": ".py",
   "mimetype": "text/x-python",
   "name": "python",
   "nbconvert_exporter": "python",
   "pygments_lexer": "ipython3",
   "version": "3.9.12"
  }
 },
 "nbformat": 4,
 "nbformat_minor": 5
}
